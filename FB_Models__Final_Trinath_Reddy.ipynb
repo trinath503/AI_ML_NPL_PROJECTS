{
  "nbformat": 4,
  "nbformat_minor": 0,
  "metadata": {
    "colab": {
      "name": "FB_Models_ Final - Trinath Reddy.ipynb",
      "provenance": [],
      "collapsed_sections": [],
      "toc_visible": true
    },
    "kernelspec": {
      "display_name": "Python 3",
      "language": "python",
      "name": "python3"
    }
  },
  "cells": [
    {
      "cell_type": "markdown",
      "metadata": {
        "id": "naWvqMEMHglO",
        "colab_type": "text"
      },
      "source": [
        "<p style=\"font-size:32px;text-align:center\"> <b>Social network Graph Link Prediction - Facebook Challenge</b> </p>"
      ]
    },
    {
      "cell_type": "code",
      "metadata": {
        "id": "9wb9N5RzHglP",
        "colab_type": "code",
        "colab": {}
      },
      "source": [
        "#Importing Libraries\n",
        "# please do go through this python notebook: \n",
        "import warnings\n",
        "warnings.filterwarnings(\"ignore\")\n",
        "\n",
        "import csv\n",
        "import pandas as pd#pandas to create small dataframes \n",
        "import datetime #Convert to unix time\n",
        "import time #Convert to unix time\n",
        "# if numpy is not installed already : pip3 install numpy\n",
        "import numpy as np#Do aritmetic operations on arrays\n",
        "# matplotlib: used to plot graphs\n",
        "import matplotlib\n",
        "import matplotlib.pylab as plt\n",
        "import seaborn as sns#Plots\n",
        "from matplotlib import rcParams#Size of plots  \n",
        "from sklearn.cluster import MiniBatchKMeans, KMeans#Clustering\n",
        "import math\n",
        "import pickle\n",
        "import os\n",
        "# to install xgboost: pip3 install xgboost\n",
        "import xgboost as xgb\n",
        "\n",
        "import warnings\n",
        "import networkx as nx\n",
        "import pdb\n",
        "import pickle\n",
        "from pandas import HDFStore,DataFrame\n",
        "from pandas import read_hdf\n",
        "from scipy.sparse.linalg import svds, eigs\n",
        "import gc\n",
        "from tqdm import tqdm\n",
        "from sklearn.ensemble import RandomForestClassifier\n",
        "from sklearn.metrics import f1_score\n",
        "from scipy.stats import randint as sp_randint\n",
        "from scipy.stats import uniform"
      ],
      "execution_count": 37,
      "outputs": []
    },
    {
      "cell_type": "code",
      "metadata": {
        "id": "EyCCp8sosO6i",
        "colab_type": "code",
        "colab": {
          "base_uri": "https://localhost:8080/",
          "height": 85
        },
        "outputId": "97aa04f6-0850-4b70-d291-8f3d9e703272"
      },
      "source": [
        "!gdown --id 1fDJptlCFEWNV5UNGPc4geTykgFI3PDCV"
      ],
      "execution_count": 38,
      "outputs": [
        {
          "output_type": "stream",
          "text": [
            "Downloading...\n",
            "From: https://drive.google.com/uc?id=1fDJptlCFEWNV5UNGPc4geTykgFI3PDCV\n",
            "To: /content/storage_sample_stage4.h5\n",
            "103MB [00:00, 155MB/s] \n"
          ],
          "name": "stdout"
        }
      ]
    },
    {
      "cell_type": "code",
      "metadata": {
        "id": "XC4OJFKkHglU",
        "colab_type": "code",
        "colab": {}
      },
      "source": [
        "#reading\n",
        "from pandas import read_hdf\n",
        "df_final_train = read_hdf('storage_sample_stage4.h5', 'train_df',mode='r')\n",
        "df_final_test = read_hdf('storage_sample_stage4.h5', 'test_df',mode='r')"
      ],
      "execution_count": 39,
      "outputs": []
    },
    {
      "cell_type": "code",
      "metadata": {
        "id": "5Gm-BHRkHglW",
        "colab_type": "code",
        "colab": {
          "base_uri": "https://localhost:8080/",
          "height": 238
        },
        "outputId": "5d109998-6115-4a5a-f7b4-6e97e65b9c35"
      },
      "source": [
        "df_final_train.columns"
      ],
      "execution_count": 40,
      "outputs": [
        {
          "output_type": "execute_result",
          "data": {
            "text/plain": [
              "Index(['source_node', 'destination_node', 'indicator_link',\n",
              "       'jaccard_followers', 'jaccard_followees', 'cosine_followers',\n",
              "       'cosine_followees', 'num_followers_s', 'num_followees_s',\n",
              "       'num_followees_d', 'inter_followers', 'inter_followees', 'adar_index',\n",
              "       'follows_back', 'same_comp', 'shortest_path', 'weight_in', 'weight_out',\n",
              "       'weight_f1', 'weight_f2', 'weight_f3', 'weight_f4', 'page_rank_s',\n",
              "       'page_rank_d', 'katz_s', 'katz_d', 'hubs_s', 'hubs_d', 'authorities_s',\n",
              "       'authorities_d', 'svd_u_s_1', 'svd_u_s_2', 'svd_u_s_3', 'svd_u_s_4',\n",
              "       'svd_u_s_5', 'svd_u_s_6', 'svd_u_d_1', 'svd_u_d_2', 'svd_u_d_3',\n",
              "       'svd_u_d_4', 'svd_u_d_5', 'svd_u_d_6', 'svd_v_s_1', 'svd_v_s_2',\n",
              "       'svd_v_s_3', 'svd_v_s_4', 'svd_v_s_5', 'svd_v_s_6', 'svd_v_d_1',\n",
              "       'svd_v_d_2', 'svd_v_d_3', 'svd_v_d_4', 'svd_v_d_5', 'svd_v_d_6'],\n",
              "      dtype='object')"
            ]
          },
          "metadata": {
            "tags": []
          },
          "execution_count": 40
        }
      ]
    },
    {
      "cell_type": "code",
      "metadata": {
        "id": "XRW7VZ4AHglc",
        "colab_type": "code",
        "colab": {}
      },
      "source": [
        "y_train = df_final_train.indicator_link\n",
        "y_test = df_final_test.indicator_link"
      ],
      "execution_count": 41,
      "outputs": []
    },
    {
      "cell_type": "code",
      "metadata": {
        "id": "4lj9M_qtHglf",
        "colab_type": "code",
        "colab": {}
      },
      "source": [
        "df_final_train.drop(['source_node', 'destination_node','indicator_link'],axis=1,inplace=True)\n",
        "df_final_test.drop(['source_node', 'destination_node','indicator_link'],axis=1,inplace=True)"
      ],
      "execution_count": 42,
      "outputs": []
    },
    {
      "cell_type": "code",
      "metadata": {
        "id": "lIEc91uVHgli",
        "colab_type": "code",
        "colab": {},
        "outputId": "31f04b72-ebe5-4b13-ccca-a5ae3bc4f09c"
      },
      "source": [
        "estimators = [10,50,100,250,450]\n",
        "train_scores = []\n",
        "test_scores = []\n",
        "for i in estimators:\n",
        "    clf = RandomForestClassifier(bootstrap=True, class_weight=None, criterion='gini',\n",
        "            max_depth=5, max_features='auto', max_leaf_nodes=None,\n",
        "            min_impurity_decrease=0.0, min_impurity_split=None,\n",
        "            min_samples_leaf=52, min_samples_split=120,\n",
        "            min_weight_fraction_leaf=0.0, n_estimators=i, n_jobs=-1,random_state=25,verbose=0,warm_start=False)\n",
        "    clf.fit(df_final_train,y_train)\n",
        "    train_sc = f1_score(y_train,clf.predict(df_final_train))\n",
        "    test_sc = f1_score(y_test,clf.predict(df_final_test))\n",
        "    test_scores.append(test_sc)\n",
        "    train_scores.append(train_sc)\n",
        "    print('Estimators = ',i,'Train Score',train_sc,'test Score',test_sc)\n",
        "plt.plot(estimators,train_scores,label='Train Score')\n",
        "plt.plot(estimators,test_scores,label='Test Score')\n",
        "plt.xlabel('Estimators')\n",
        "plt.ylabel('Score')\n",
        "plt.title('Estimators vs score at depth of 5')"
      ],
      "execution_count": null,
      "outputs": [
        {
          "output_type": "stream",
          "text": [
            "Estimators =  10 Train Score 0.9063252121775113 test Score 0.8745605278006858\n",
            "Estimators =  50 Train Score 0.9205725512208812 test Score 0.9125653355634538\n",
            "Estimators =  100 Train Score 0.9238690848446947 test Score 0.9141199714153599\n",
            "Estimators =  250 Train Score 0.9239789348046863 test Score 0.9188007232664732\n",
            "Estimators =  450 Train Score 0.9237190618658074 test Score 0.9161507685828595\n"
          ],
          "name": "stdout"
        },
        {
          "output_type": "execute_result",
          "data": {
            "text/plain": [
              "Text(0.5,1,'Estimators vs score at depth of 5')"
            ]
          },
          "metadata": {
            "tags": []
          },
          "execution_count": 6
        },
        {
          "output_type": "display_data",
          "data": {
            "image/png": "[encoded data removed]",
            "text/plain": [
              "<Figure size 432x288 with 1 Axes>"
            ]
          },
          "metadata": {
            "tags": []
          }
        }
      ]
    },
    {
      "cell_type": "code",
      "metadata": {
        "id": "nZxhrTdQHglm",
        "colab_type": "code",
        "colab": {},
        "outputId": "53382b8e-148d-4c22-8066-d9807fb27012"
      },
      "source": [
        "depths = [3,9,11,15,20,35,50,70,130]\n",
        "train_scores = []\n",
        "test_scores = []\n",
        "for i in depths:\n",
        "    clf = RandomForestClassifier(bootstrap=True, class_weight=None, criterion='gini',\n",
        "            max_depth=i, max_features='auto', max_leaf_nodes=None,\n",
        "            min_impurity_decrease=0.0, min_impurity_split=None,\n",
        "            min_samples_leaf=52, min_samples_split=120,\n",
        "            min_weight_fraction_leaf=0.0, n_estimators=115, n_jobs=-1,random_state=25,verbose=0,warm_start=False)\n",
        "    clf.fit(df_final_train,y_train)\n",
        "    train_sc = f1_score(y_train,clf.predict(df_final_train))\n",
        "    test_sc = f1_score(y_test,clf.predict(df_final_test))\n",
        "    test_scores.append(test_sc)\n",
        "    train_scores.append(train_sc)\n",
        "    print('depth = ',i,'Train Score',train_sc,'test Score',test_sc)\n",
        "plt.plot(depths,train_scores,label='Train Score')\n",
        "plt.plot(depths,test_scores,label='Test Score')\n",
        "plt.xlabel('Depth')\n",
        "plt.ylabel('Score')\n",
        "plt.title('Depth vs score at depth of 5 at estimators = 115')\n",
        "plt.show()"
      ],
      "execution_count": null,
      "outputs": [
        {
          "output_type": "stream",
          "text": [
            "depth =  3 Train Score 0.8916120853581238 test Score 0.8687934859875491\n",
            "depth =  9 Train Score 0.9572226298198419 test Score 0.9222953031452904\n",
            "depth =  11 Train Score 0.9623451340902863 test Score 0.9252318758281279\n",
            "depth =  15 Train Score 0.9634267621927706 test Score 0.9231288356496615\n",
            "depth =  20 Train Score 0.9631629153051491 test Score 0.9235051024711141\n",
            "depth =  35 Train Score 0.9634333127085721 test Score 0.9235601652753184\n",
            "depth =  50 Train Score 0.9634333127085721 test Score 0.9235601652753184\n",
            "depth =  70 Train Score 0.9634333127085721 test Score 0.9235601652753184\n",
            "depth =  130 Train Score 0.9634333127085721 test Score 0.9235601652753184\n"
          ],
          "name": "stdout"
        },
        {
          "output_type": "display_data",
          "data": {
            "image/png": "[encoded data removed]",
            "text/plain": [
              "<Figure size 432x288 with 1 Axes>"
            ]
          },
          "metadata": {
            "tags": []
          }
        }
      ]
    },
    {
      "cell_type": "code",
      "metadata": {
        "id": "MrG1Lfl3Hglq",
        "colab_type": "code",
        "colab": {},
        "outputId": "7b6e3c97-8d66-455d-cd79-213f824719cc"
      },
      "source": [
        "from sklearn.metrics import f1_score\n",
        "from sklearn.ensemble import RandomForestClassifier\n",
        "from sklearn.metrics import f1_score\n",
        "from sklearn.model_selection import RandomizedSearchCV\n",
        "from scipy.stats import randint as sp_randint\n",
        "from scipy.stats import uniform\n",
        "\n",
        "param_dist = {\"n_estimators\":sp_randint(105,125),\n",
        "              \"max_depth\": sp_randint(10,15),\n",
        "              \"min_samples_split\": sp_randint(110,190),\n",
        "              \"min_samples_leaf\": sp_randint(25,65)}\n",
        "\n",
        "clf = RandomForestClassifier(random_state=25,n_jobs=-1)\n",
        "\n",
        "rf_random = RandomizedSearchCV(clf, param_distributions=param_dist,\n",
        "                                   n_iter=5,cv=10,scoring='f1',random_state=25)\n",
        "\n",
        "rf_random.fit(df_final_train,y_train)\n",
        "print('mean test scores',rf_random.cv_results_['mean_test_score'])\n",
        "print('mean train scores',rf_random.cv_results_['mean_train_score'])"
      ],
      "execution_count": null,
      "outputs": [
        {
          "output_type": "stream",
          "text": [
            "mean test scores [0.96225043 0.96215493 0.96057081 0.96194015 0.96330005]\n",
            "mean train scores [0.96294922 0.96266735 0.96115674 0.96263457 0.96430539]\n"
          ],
          "name": "stdout"
        }
      ]
    },
    {
      "cell_type": "code",
      "metadata": {
        "id": "hme3j_diHglu",
        "colab_type": "code",
        "colab": {},
        "outputId": "581ccc02-7770-4a94-d003-257af4e81570"
      },
      "source": [
        "print(rf_random.best_estimator_)"
      ],
      "execution_count": null,
      "outputs": [
        {
          "output_type": "stream",
          "text": [
            "RandomForestClassifier(bootstrap=True, class_weight=None, criterion='gini',\n",
            "            max_depth=14, max_features='auto', max_leaf_nodes=None,\n",
            "            min_impurity_decrease=0.0, min_impurity_split=None,\n",
            "            min_samples_leaf=28, min_samples_split=111,\n",
            "            min_weight_fraction_leaf=0.0, n_estimators=121, n_jobs=-1,\n",
            "            oob_score=False, random_state=25, verbose=0, warm_start=False)\n"
          ],
          "name": "stdout"
        }
      ]
    },
    {
      "cell_type": "code",
      "metadata": {
        "id": "qu4KIEweHglx",
        "colab_type": "code",
        "colab": {}
      },
      "source": [
        "clf = RandomForestClassifier(bootstrap=True, class_weight=None, criterion='gini',\n",
        "            max_depth=14, max_features='auto', max_leaf_nodes=None,\n",
        "            min_impurity_decrease=0.0, min_impurity_split=None,\n",
        "            min_samples_leaf=28, min_samples_split=111,\n",
        "            min_weight_fraction_leaf=0.0, n_estimators=121, n_jobs=-1,\n",
        "            oob_score=False, random_state=25, verbose=0, warm_start=False)"
      ],
      "execution_count": null,
      "outputs": []
    },
    {
      "cell_type": "code",
      "metadata": {
        "id": "Dax83GfLHgl1",
        "colab_type": "code",
        "colab": {}
      },
      "source": [
        "clf.fit(df_final_train,y_train)\n",
        "y_train_pred = clf.predict(df_final_train)\n",
        "y_test_pred = clf.predict(df_final_test)"
      ],
      "execution_count": null,
      "outputs": []
    },
    {
      "cell_type": "code",
      "metadata": {
        "id": "PTtAp1iTHgl4",
        "colab_type": "code",
        "colab": {},
        "outputId": "e2e3d725-3c4d-4374-d303-8f294b570977"
      },
      "source": [
        "from sklearn.metrics import f1_score\n",
        "print('Train f1 score',f1_score(y_train,y_train_pred))\n",
        "print('Test f1 score',f1_score(y_test,y_test_pred))"
      ],
      "execution_count": null,
      "outputs": [
        {
          "output_type": "stream",
          "text": [
            "Train f1 score 0.9652533106548414\n",
            "Test f1 score 0.9241678239279553\n"
          ],
          "name": "stdout"
        }
      ]
    },
    {
      "cell_type": "code",
      "metadata": {
        "id": "5XfUkZYQHgl7",
        "colab_type": "code",
        "colab": {}
      },
      "source": [
        "from sklearn.metrics import confusion_matrix\n",
        "def plot_confusion_matrix(test_y, predict_y):\n",
        "    C = confusion_matrix(test_y, predict_y)\n",
        "    \n",
        "    A =(((C.T)/(C.sum(axis=1))).T)\n",
        "    \n",
        "    B =(C/C.sum(axis=0))\n",
        "    plt.figure(figsize=(20,4))\n",
        "    \n",
        "    labels = [0,1]\n",
        "    # representing A in heatmap format\n",
        "    cmap=sns.light_palette(\"blue\")\n",
        "    plt.subplot(1, 3, 1)\n",
        "    sns.heatmap(C, annot=True, cmap=cmap, fmt=\".3f\", xticklabels=labels, yticklabels=labels)\n",
        "    plt.xlabel('Predicted Class')\n",
        "    plt.ylabel('Original Class')\n",
        "    plt.title(\"Confusion matrix\")\n",
        "    \n",
        "    plt.subplot(1, 3, 2)\n",
        "    sns.heatmap(B, annot=True, cmap=cmap, fmt=\".3f\", xticklabels=labels, yticklabels=labels)\n",
        "    plt.xlabel('Predicted Class')\n",
        "    plt.ylabel('Original Class')\n",
        "    plt.title(\"Precision matrix\")\n",
        "    \n",
        "    plt.subplot(1, 3, 3)\n",
        "    # representing B in heatmap format\n",
        "    sns.heatmap(A, annot=True, cmap=cmap, fmt=\".3f\", xticklabels=labels, yticklabels=labels)\n",
        "    plt.xlabel('Predicted Class')\n",
        "    plt.ylabel('Original Class')\n",
        "    plt.title(\"Recall matrix\")\n",
        "    \n",
        "    plt.show()"
      ],
      "execution_count": 55,
      "outputs": []
    },
    {
      "cell_type": "code",
      "metadata": {
        "id": "s6t11dhTHgl-",
        "colab_type": "code",
        "colab": {},
        "outputId": "189de3be-1c99-4653-f56f-12b18b0f4db7"
      },
      "source": [
        "print('Train confusion_matrix')\n",
        "plot_confusion_matrix(y_train,y_train_pred)\n",
        "print('Test confusion_matrix')\n",
        "plot_confusion_matrix(y_test,y_test_pred)"
      ],
      "execution_count": null,
      "outputs": [
        {
          "output_type": "stream",
          "text": [
            "Train confusion_matrix\n"
          ],
          "name": "stdout"
        },
        {
          "output_type": "display_data",
          "data": {
            "image/png": "[encoded data removed]",
            "text/plain": [
              "<Figure size 1440x288 with 6 Axes>"
            ]
          },
          "metadata": {
            "tags": []
          }
        },
        {
          "output_type": "stream",
          "text": [
            "Test confusion_matrix\n"
          ],
          "name": "stdout"
        },
        {
          "output_type": "display_data",
          "data": {
            "image/png": "[encoded data removed]",
            "text/plain": [
              "<Figure size 1440x288 with 6 Axes>"
            ]
          },
          "metadata": {
            "tags": []
          }
        }
      ]
    },
    {
      "cell_type": "code",
      "metadata": {
        "id": "61TF-VLeHgmD",
        "colab_type": "code",
        "colab": {},
        "outputId": "795f1b39-61c7-470f-e2d0-1fe6dc7ac5fd"
      },
      "source": [
        "from sklearn.metrics import roc_curve, auc\n",
        "fpr,tpr,ths = roc_curve(y_test,y_test_pred)\n",
        "auc_sc = auc(fpr, tpr)\n",
        "plt.plot(fpr, tpr, color='navy',label='ROC curve (area = %0.2f)' % auc_sc)\n",
        "plt.xlabel('False Positive Rate')\n",
        "plt.ylabel('True Positive Rate')\n",
        "plt.title('Receiver operating characteristic with test data')\n",
        "plt.legend()\n",
        "plt.show()"
      ],
      "execution_count": null,
      "outputs": [
        {
          "output_type": "display_data",
          "data": {
            "image/png": "[encoded data removed]",
            "text/plain": [
              "<Figure size 432x288 with 1 Axes>"
            ]
          },
          "metadata": {
            "tags": []
          }
        }
      ]
    },
    {
      "cell_type": "code",
      "metadata": {
        "scrolled": false,
        "id": "HEZ7uvN6HgmK",
        "colab_type": "code",
        "colab": {},
        "outputId": "6f762256-54fc-4e2f-865b-22342033eb2c"
      },
      "source": [
        "features = df_final_train.columns\n",
        "importances = clf.feature_importances_\n",
        "indices = (np.argsort(importances))[-25:]\n",
        "plt.figure(figsize=(10,12))\n",
        "plt.title('Feature Importances')\n",
        "plt.barh(range(len(indices)), importances[indices], color='r', align='center')\n",
        "plt.yticks(range(len(indices)), [features[i] for i in indices])\n",
        "plt.xlabel('Relative Importance')\n",
        "plt.show()"
      ],
      "execution_count": null,
      "outputs": [
        {
          "output_type": "display_data",
          "data": {
            "image/png": "[encoded data removed]",
            "text/plain": [
              "<Figure size 720x864 with 1 Axes>"
            ]
          },
          "metadata": {
            "tags": []
          }
        }
      ]
    },
    {
      "cell_type": "markdown",
      "metadata": {
        "id": "xdHW32hcHgmN",
        "colab_type": "text"
      },
      "source": [
        "# Assignments:\n",
        "\n",
        "1. Add another feature called  Preferential Attachment  with followers and followees data of vertex. you can check about Preferential Attachment in below link\n",
        "http://be.amazd.com/link-prediction/ <br>\n",
        "2. Add  feature called svd_dot. you can calculate svd_dot as Dot product between sourse node svd and destination node svd features.  you can read about this in below pdf \n",
        "https://storage.googleapis.com/kaggle-forum-message-attachments/2594/supervised_link_prediction.pdf<br>\n",
        "3. Tune hyperparameters for XG boost with all these features and check the error metric."
      ]
    },
    {
      "cell_type": "code",
      "metadata": {
        "id": "FMoxbMfut3_e",
        "colab_type": "code",
        "colab": {
          "base_uri": "https://localhost:8080/",
          "height": 238
        },
        "outputId": "4d75c941-43d3-456c-9619-0049acf2bbee"
      },
      "source": [
        "df_final_train.columns"
      ],
      "execution_count": 19,
      "outputs": [
        {
          "output_type": "execute_result",
          "data": {
            "text/plain": [
              "Index(['jaccard_followers', 'jaccard_followees', 'cosine_followers',\n",
              "       'cosine_followees', 'num_followers_s', 'num_followees_s',\n",
              "       'num_followees_d', 'inter_followers', 'inter_followees', 'adar_index',\n",
              "       'follows_back', 'same_comp', 'shortest_path', 'weight_in', 'weight_out',\n",
              "       'weight_f1', 'weight_f2', 'weight_f3', 'weight_f4', 'page_rank_s',\n",
              "       'page_rank_d', 'katz_s', 'katz_d', 'hubs_s', 'hubs_d', 'authorities_s',\n",
              "       'authorities_d', 'svd_u_s_1', 'svd_u_s_2', 'svd_u_s_3', 'svd_u_s_4',\n",
              "       'svd_u_s_5', 'svd_u_s_6', 'svd_u_d_1', 'svd_u_d_2', 'svd_u_d_3',\n",
              "       'svd_u_d_4', 'svd_u_d_5', 'svd_u_d_6', 'svd_v_s_1', 'svd_v_s_2',\n",
              "       'svd_v_s_3', 'svd_v_s_4', 'svd_v_s_5', 'svd_v_s_6', 'svd_v_d_1',\n",
              "       'svd_v_d_2', 'svd_v_d_3', 'svd_v_d_4', 'svd_v_d_5', 'svd_v_d_6',\n",
              "       'FB_FOLLWER_FEATURE_1', 'FB_FOLLWER_FEATURE_2'],\n",
              "      dtype='object')"
            ]
          },
          "metadata": {
            "tags": []
          },
          "execution_count": 19
        }
      ]
    },
    {
      "cell_type": "code",
      "metadata": {
        "id": "35UTzKWNs_A1",
        "colab_type": "code",
        "colab": {}
      },
      "source": [
        "#for train data\n",
        "df_final_train['FB_FOLLWER_FEATURE_1']=df_final_train['num_followers_s']*df_final_train['inter_followers']\n",
        "df_final_train['FB_FOLLWEES_FEATURE_2']=df_final_train['num_followees_s']*df_final_train['num_followees_d']"
      ],
      "execution_count": 43,
      "outputs": []
    },
    {
      "cell_type": "code",
      "metadata": {
        "id": "igKeWvjUtHpJ",
        "colab_type": "code",
        "colab": {}
      },
      "source": [
        "#for test data\n",
        "\n",
        "df_final_test['FB_FOLLWER_FEATURE_1']=df_final_test['num_followers_s']*df_final_test['inter_followers']\n",
        "df_final_test['FB_FOLLWEES_FEATURE_2']=df_final_test['num_followees_s']*df_final_test['num_followees_d']"
      ],
      "execution_count": 44,
      "outputs": []
    },
    {
      "cell_type": "code",
      "metadata": {
        "id": "24uaEcUluwte",
        "colab_type": "code",
        "colab": {
          "base_uri": "https://localhost:8080/",
          "height": 34
        },
        "outputId": "6e771800-dd1e-4ce9-c5ae-11d8b562b729"
      },
      "source": [
        "df_final_train['svd_u_s_1'].shape, df_final_train['svd_u_s_2'].shape,df_final_train['svd_u_s_3'].shape"
      ],
      "execution_count": 45,
      "outputs": [
        {
          "output_type": "execute_result",
          "data": {
            "text/plain": [
              "((100002,), (100002,), (100002,))"
            ]
          },
          "metadata": {
            "tags": []
          },
          "execution_count": 45
        }
      ]
    },
    {
      "cell_type": "code",
      "metadata": {
        "id": "QkRZv4WttLDE",
        "colab_type": "code",
        "colab": {}
      },
      "source": [
        "#for train data\n",
        "total_fields = df_final_train['svd_u_s_1'].shape[0]\n",
        "svd=[]\n",
        "for ele in range(total_fields):\n",
        "    svd_v_s_details = []\n",
        "    for fea in ['svd_u_s_1','svd_u_s_2','svd_u_s_3','svd_u_s_4','svd_u_s_5','svd_u_s_6','svd_v_s_1','svd_v_s_2','svd_v_s_3','svd_v_s_4','svd_v_s_5','svd_v_s_6']:\n",
        "        svd_v_s_details.append(np.array(df_final_train[fea][ele]))\n",
        "    svd_v_d_details = []\n",
        "    for fea in ['svd_u_d_1','svd_u_d_2','svd_u_d_3','svd_u_d_4','svd_u_d_5','svd_u_d_6','svd_v_d_1','svd_v_d_2','svd_v_d_3','svd_v_d_4','svd_v_d_5','svd_v_d_6']:\n",
        "        svd_v_d_details.append(np.array(df_final_train[fea][ele]))\n",
        "    svd.append(np.dot(svd_v_s_details,svd_v_d_details))\n",
        "df_final_train['SVD_U_S__AND_D_FEATURES']=svd"
      ],
      "execution_count": 28,
      "outputs": []
    },
    {
      "cell_type": "code",
      "metadata": {
        "id": "HLMVVEl92a-F",
        "colab_type": "code",
        "colab": {
          "base_uri": "https://localhost:8080/",
          "height": 309
        },
        "outputId": "a1c653f5-242b-43cb-a5aa-5a67f1cb2d97"
      },
      "source": [
        "#for test data\n",
        "total_fields = df_final_test['svd_u_s_1'].shape[0]\n",
        "svd=[]\n",
        "for ele in range(total_fields):\n",
        "    svd_v_s_details = []\n",
        "    for fea in ['svd_u_s_1','svd_u_s_2','svd_u_s_3','svd_u_s_4','svd_u_s_5','svd_u_s_6','svd_v_s_1','svd_v_s_2','svd_v_s_3','svd_v_s_4','svd_v_s_5','svd_v_s_6']:\n",
        "        svd_v_s_details.append(np.array(df_final_train[fea][ele]))\n",
        "    svd_v_d_details = []\n",
        "    for fea in ['svd_u_d_1','svd_u_d_2','svd_u_d_3','svd_u_d_4','svd_u_d_5','svd_u_d_6','svd_v_d_1','svd_v_d_2','svd_v_d_3','svd_v_d_4','svd_v_d_5','svd_v_d_6']:\n",
        "        svd_v_d_details.append(np.array(df_final_train[fea][ele]))\n",
        "    svd.append(np.dot(svd_v_s_details,svd_v_d_details))\n",
        "df_final_test['SVD_U_S__AND_D_FEATURES']=svd\n",
        "df_final_test.head()"
      ],
      "execution_count": 29,
      "outputs": [
        {
          "output_type": "execute_result",
          "data": {
            "text/html": [
              "<div>\n",
              "<style scoped>\n",
              "    .dataframe tbody tr th:only-of-type {\n",
              "        vertical-align: middle;\n",
              "    }\n",
              "\n",
              "    .dataframe tbody tr th {\n",
              "        vertical-align: top;\n",
              "    }\n",
              "\n",
              "    .dataframe thead th {\n",
              "        text-align: right;\n",
              "    }\n",
              "</style>\n",
              "<table border=\"1\" class=\"dataframe\">\n",
              "  <thead>\n",
              "    <tr style=\"text-align: right;\">\n",
              "      <th></th>\n",
              "      <th>jaccard_followers</th>\n",
              "      <th>jaccard_followees</th>\n",
              "      <th>cosine_followers</th>\n",
              "      <th>cosine_followees</th>\n",
              "      <th>num_followers_s</th>\n",
              "      <th>num_followees_s</th>\n",
              "      <th>num_followees_d</th>\n",
              "      <th>inter_followers</th>\n",
              "      <th>inter_followees</th>\n",
              "      <th>adar_index</th>\n",
              "      <th>follows_back</th>\n",
              "      <th>same_comp</th>\n",
              "      <th>shortest_path</th>\n",
              "      <th>weight_in</th>\n",
              "      <th>weight_out</th>\n",
              "      <th>weight_f1</th>\n",
              "      <th>weight_f2</th>\n",
              "      <th>weight_f3</th>\n",
              "      <th>weight_f4</th>\n",
              "      <th>page_rank_s</th>\n",
              "      <th>page_rank_d</th>\n",
              "      <th>katz_s</th>\n",
              "      <th>katz_d</th>\n",
              "      <th>hubs_s</th>\n",
              "      <th>hubs_d</th>\n",
              "      <th>authorities_s</th>\n",
              "      <th>authorities_d</th>\n",
              "      <th>svd_u_s_1</th>\n",
              "      <th>svd_u_s_2</th>\n",
              "      <th>svd_u_s_3</th>\n",
              "      <th>svd_u_s_4</th>\n",
              "      <th>svd_u_s_5</th>\n",
              "      <th>svd_u_s_6</th>\n",
              "      <th>svd_u_d_1</th>\n",
              "      <th>svd_u_d_2</th>\n",
              "      <th>svd_u_d_3</th>\n",
              "      <th>svd_u_d_4</th>\n",
              "      <th>svd_u_d_5</th>\n",
              "      <th>svd_u_d_6</th>\n",
              "      <th>svd_v_s_1</th>\n",
              "      <th>svd_v_s_2</th>\n",
              "      <th>svd_v_s_3</th>\n",
              "      <th>svd_v_s_4</th>\n",
              "      <th>svd_v_s_5</th>\n",
              "      <th>svd_v_s_6</th>\n",
              "      <th>svd_v_d_1</th>\n",
              "      <th>svd_v_d_2</th>\n",
              "      <th>svd_v_d_3</th>\n",
              "      <th>svd_v_d_4</th>\n",
              "      <th>svd_v_d_5</th>\n",
              "      <th>svd_v_d_6</th>\n",
              "      <th>FB_FOLLWER_FEATURE_1</th>\n",
              "      <th>FB_FOLLWEES_FEATURE_2</th>\n",
              "      <th>SVD_U_S__AND_D_FEATURES</th>\n",
              "    </tr>\n",
              "  </thead>\n",
              "  <tbody>\n",
              "    <tr>\n",
              "      <th>0</th>\n",
              "      <td>0</td>\n",
              "      <td>0.0</td>\n",
              "      <td>0.029161</td>\n",
              "      <td>0.000000</td>\n",
              "      <td>14</td>\n",
              "      <td>6</td>\n",
              "      <td>9</td>\n",
              "      <td>1</td>\n",
              "      <td>0</td>\n",
              "      <td>0.000000</td>\n",
              "      <td>1</td>\n",
              "      <td>1</td>\n",
              "      <td>2</td>\n",
              "      <td>0.258199</td>\n",
              "      <td>0.377964</td>\n",
              "      <td>0.636163</td>\n",
              "      <td>0.097590</td>\n",
              "      <td>0.894362</td>\n",
              "      <td>1.014128</td>\n",
              "      <td>6.557971e-07</td>\n",
              "      <td>0.000002</td>\n",
              "      <td>0.000754</td>\n",
              "      <td>0.000786</td>\n",
              "      <td>3.243237e-16</td>\n",
              "      <td>1.745627e-16</td>\n",
              "      <td>2.969838e-15</td>\n",
              "      <td>9.269213e-14</td>\n",
              "      <td>-9.987979e-12</td>\n",
              "      <td>2.283676e-13</td>\n",
              "      <td>1.439968e-10</td>\n",
              "      <td>6.136162e-13</td>\n",
              "      <td>4.188171e-13</td>\n",
              "      <td>5.983361e-15</td>\n",
              "      <td>-1.026186e-11</td>\n",
              "      <td>5.316372e-13</td>\n",
              "      <td>5.843225e-10</td>\n",
              "      <td>1.166047e-13</td>\n",
              "      <td>2.253356e-11</td>\n",
              "      <td>3.220367e-15</td>\n",
              "      <td>-2.148852e-13</td>\n",
              "      <td>1.883148e-13</td>\n",
              "      <td>5.904807e-11</td>\n",
              "      <td>2.701538e-12</td>\n",
              "      <td>4.341620e-13</td>\n",
              "      <td>5.535503e-14</td>\n",
              "      <td>-9.994076e-10</td>\n",
              "      <td>5.791910e-10</td>\n",
              "      <td>3.512364e-07</td>\n",
              "      <td>2.486658e-09</td>\n",
              "      <td>2.771146e-09</td>\n",
              "      <td>1.727694e-12</td>\n",
              "      <td>14</td>\n",
              "      <td>54</td>\n",
              "      <td>1.338835e-11</td>\n",
              "    </tr>\n",
              "    <tr>\n",
              "      <th>1</th>\n",
              "      <td>0</td>\n",
              "      <td>0.0</td>\n",
              "      <td>0.000000</td>\n",
              "      <td>0.000000</td>\n",
              "      <td>17</td>\n",
              "      <td>1</td>\n",
              "      <td>19</td>\n",
              "      <td>0</td>\n",
              "      <td>0</td>\n",
              "      <td>0.000000</td>\n",
              "      <td>1</td>\n",
              "      <td>1</td>\n",
              "      <td>7</td>\n",
              "      <td>0.235702</td>\n",
              "      <td>0.707107</td>\n",
              "      <td>0.942809</td>\n",
              "      <td>0.166667</td>\n",
              "      <td>1.178511</td>\n",
              "      <td>1.649916</td>\n",
              "      <td>2.172064e-07</td>\n",
              "      <td>0.000001</td>\n",
              "      <td>0.000739</td>\n",
              "      <td>0.000801</td>\n",
              "      <td>1.702625e-19</td>\n",
              "      <td>2.706300e-15</td>\n",
              "      <td>2.522357e-16</td>\n",
              "      <td>5.277458e-15</td>\n",
              "      <td>-2.079151e-15</td>\n",
              "      <td>7.009864e-16</td>\n",
              "      <td>6.970710e-10</td>\n",
              "      <td>9.561769e-15</td>\n",
              "      <td>1.728794e-15</td>\n",
              "      <td>3.122935e-18</td>\n",
              "      <td>-1.960277e-11</td>\n",
              "      <td>2.861530e-11</td>\n",
              "      <td>1.939773e-08</td>\n",
              "      <td>1.907382e-12</td>\n",
              "      <td>3.797410e-11</td>\n",
              "      <td>4.992848e-14</td>\n",
              "      <td>-4.054309e-13</td>\n",
              "      <td>2.895682e-13</td>\n",
              "      <td>2.545382e-10</td>\n",
              "      <td>2.248568e-14</td>\n",
              "      <td>3.600957e-13</td>\n",
              "      <td>4.701436e-15</td>\n",
              "      <td>-9.360516e-12</td>\n",
              "      <td>3.206809e-10</td>\n",
              "      <td>4.668696e-08</td>\n",
              "      <td>6.665777e-12</td>\n",
              "      <td>1.495979e-10</td>\n",
              "      <td>9.836670e-14</td>\n",
              "      <td>0</td>\n",
              "      <td>19</td>\n",
              "      <td>4.099684e-03</td>\n",
              "    </tr>\n",
              "    <tr>\n",
              "      <th>2</th>\n",
              "      <td>0</td>\n",
              "      <td>0.0</td>\n",
              "      <td>0.000000</td>\n",
              "      <td>0.000000</td>\n",
              "      <td>10</td>\n",
              "      <td>16</td>\n",
              "      <td>9</td>\n",
              "      <td>0</td>\n",
              "      <td>0</td>\n",
              "      <td>0.000000</td>\n",
              "      <td>0</td>\n",
              "      <td>1</td>\n",
              "      <td>5</td>\n",
              "      <td>0.301511</td>\n",
              "      <td>0.242536</td>\n",
              "      <td>0.544047</td>\n",
              "      <td>0.073127</td>\n",
              "      <td>0.845558</td>\n",
              "      <td>0.786583</td>\n",
              "      <td>1.853369e-06</td>\n",
              "      <td>0.000002</td>\n",
              "      <td>0.000789</td>\n",
              "      <td>0.000770</td>\n",
              "      <td>9.426796e-14</td>\n",
              "      <td>4.116616e-16</td>\n",
              "      <td>2.253244e-15</td>\n",
              "      <td>2.079387e-15</td>\n",
              "      <td>-1.782290e-11</td>\n",
              "      <td>2.389627e-11</td>\n",
              "      <td>1.443050e-06</td>\n",
              "      <td>2.358030e-12</td>\n",
              "      <td>2.689638e-12</td>\n",
              "      <td>1.739178e-12</td>\n",
              "      <td>-1.863934e-13</td>\n",
              "      <td>1.806783e-13</td>\n",
              "      <td>2.544597e-07</td>\n",
              "      <td>1.693295e-13</td>\n",
              "      <td>2.712748e-13</td>\n",
              "      <td>7.594641e-15</td>\n",
              "      <td>-4.148103e-13</td>\n",
              "      <td>4.618813e-12</td>\n",
              "      <td>1.122150e-05</td>\n",
              "      <td>1.778927e-12</td>\n",
              "      <td>2.740535e-13</td>\n",
              "      <td>4.199834e-14</td>\n",
              "      <td>-4.253075e-13</td>\n",
              "      <td>4.789463e-13</td>\n",
              "      <td>3.479824e-07</td>\n",
              "      <td>1.630549e-13</td>\n",
              "      <td>3.954708e-13</td>\n",
              "      <td>3.875785e-14</td>\n",
              "      <td>0</td>\n",
              "      <td>144</td>\n",
              "      <td>2.034290e-35</td>\n",
              "    </tr>\n",
              "    <tr>\n",
              "      <th>3</th>\n",
              "      <td>0</td>\n",
              "      <td>0.0</td>\n",
              "      <td>0.000000</td>\n",
              "      <td>0.000000</td>\n",
              "      <td>37</td>\n",
              "      <td>10</td>\n",
              "      <td>34</td>\n",
              "      <td>0</td>\n",
              "      <td>0</td>\n",
              "      <td>0.000000</td>\n",
              "      <td>0</td>\n",
              "      <td>1</td>\n",
              "      <td>3</td>\n",
              "      <td>0.162221</td>\n",
              "      <td>0.301511</td>\n",
              "      <td>0.463733</td>\n",
              "      <td>0.048912</td>\n",
              "      <td>0.625954</td>\n",
              "      <td>0.765244</td>\n",
              "      <td>7.000791e-07</td>\n",
              "      <td>0.000002</td>\n",
              "      <td>0.000778</td>\n",
              "      <td>0.000884</td>\n",
              "      <td>9.876114e-14</td>\n",
              "      <td>1.039593e-13</td>\n",
              "      <td>1.511694e-14</td>\n",
              "      <td>3.478438e-14</td>\n",
              "      <td>-4.491246e-11</td>\n",
              "      <td>9.917404e-13</td>\n",
              "      <td>7.891250e-06</td>\n",
              "      <td>9.458624e-12</td>\n",
              "      <td>2.715848e-11</td>\n",
              "      <td>1.822074e-12</td>\n",
              "      <td>-1.070733e-10</td>\n",
              "      <td>2.888035e-12</td>\n",
              "      <td>2.070703e-05</td>\n",
              "      <td>7.229355e-12</td>\n",
              "      <td>3.563659e-11</td>\n",
              "      <td>1.917977e-12</td>\n",
              "      <td>-8.942488e-12</td>\n",
              "      <td>5.535630e-12</td>\n",
              "      <td>5.223676e-06</td>\n",
              "      <td>7.917166e-13</td>\n",
              "      <td>4.020707e-12</td>\n",
              "      <td>2.817657e-13</td>\n",
              "      <td>-2.162590e-11</td>\n",
              "      <td>6.939194e-12</td>\n",
              "      <td>1.879861e-05</td>\n",
              "      <td>4.384816e-12</td>\n",
              "      <td>1.239414e-11</td>\n",
              "      <td>6.483485e-13</td>\n",
              "      <td>0</td>\n",
              "      <td>340</td>\n",
              "      <td>3.206490e-18</td>\n",
              "    </tr>\n",
              "    <tr>\n",
              "      <th>4</th>\n",
              "      <td>0</td>\n",
              "      <td>0.2</td>\n",
              "      <td>0.042767</td>\n",
              "      <td>0.347833</td>\n",
              "      <td>27</td>\n",
              "      <td>15</td>\n",
              "      <td>27</td>\n",
              "      <td>4</td>\n",
              "      <td>7</td>\n",
              "      <td>6.136433</td>\n",
              "      <td>0</td>\n",
              "      <td>1</td>\n",
              "      <td>2</td>\n",
              "      <td>0.188982</td>\n",
              "      <td>0.250000</td>\n",
              "      <td>0.438982</td>\n",
              "      <td>0.047246</td>\n",
              "      <td>0.627964</td>\n",
              "      <td>0.688982</td>\n",
              "      <td>7.103008e-07</td>\n",
              "      <td>0.000001</td>\n",
              "      <td>0.000779</td>\n",
              "      <td>0.000840</td>\n",
              "      <td>1.557332e-15</td>\n",
              "      <td>1.096037e-14</td>\n",
              "      <td>5.180869e-15</td>\n",
              "      <td>1.296135e-14</td>\n",
              "      <td>-9.778448e-13</td>\n",
              "      <td>5.724610e-13</td>\n",
              "      <td>4.951883e-06</td>\n",
              "      <td>1.396834e-12</td>\n",
              "      <td>2.153249e-11</td>\n",
              "      <td>2.873183e-14</td>\n",
              "      <td>-2.275780e-11</td>\n",
              "      <td>1.007615e-12</td>\n",
              "      <td>2.517628e-06</td>\n",
              "      <td>1.394103e-10</td>\n",
              "      <td>2.961969e-11</td>\n",
              "      <td>2.022115e-13</td>\n",
              "      <td>-3.804979e-12</td>\n",
              "      <td>1.593011e-13</td>\n",
              "      <td>1.035016e-06</td>\n",
              "      <td>1.361574e-13</td>\n",
              "      <td>1.154623e-12</td>\n",
              "      <td>9.656662e-14</td>\n",
              "      <td>-8.742904e-12</td>\n",
              "      <td>7.467370e-12</td>\n",
              "      <td>1.256880e-05</td>\n",
              "      <td>3.636983e-12</td>\n",
              "      <td>3.948463e-12</td>\n",
              "      <td>2.415863e-13</td>\n",
              "      <td>108</td>\n",
              "      <td>405</td>\n",
              "      <td>7.773952e-14</td>\n",
              "    </tr>\n",
              "  </tbody>\n",
              "</table>\n",
              "</div>"
            ],
            "text/plain": [
              "   jaccard_followers  ...  SVD_U_S__AND_D_FEATURES\n",
              "0                  0  ...             1.338835e-11\n",
              "1                  0  ...             4.099684e-03\n",
              "2                  0  ...             2.034290e-35\n",
              "3                  0  ...             3.206490e-18\n",
              "4                  0  ...             7.773952e-14\n",
              "\n",
              "[5 rows x 54 columns]"
            ]
          },
          "metadata": {
            "tags": []
          },
          "execution_count": 29
        }
      ]
    },
    {
      "cell_type": "code",
      "metadata": {
        "id": "9o4ExhT23i8y",
        "colab_type": "code",
        "colab": {
          "base_uri": "https://localhost:8080/",
          "height": 496
        },
        "outputId": "394e864e-a02e-4886-fa93-f0bd46600284"
      },
      "source": [
        "'''\n",
        "    Get the best model from RandomizedSearchCV using XGBOOST\n",
        "'''\n",
        "fb_model_classifier = xgb.XGBClassifier()\n",
        "param_dist = {\"n_estimators\":sp_randint(105,125),\"max_depth\": sp_randint(10,15)}\n",
        "fb_model_best_model = RandomizedSearchCV(fb_model_classifier, param_distributions=param_dist,n_iter=10,cv=3,scoring='f1',\n",
        "                                random_state=25,verbose=10, return_train_score=True, n_jobs=-1)\n",
        "#fit on best train data\n",
        "fb_model_best_model.fit(df_final_train,y_train)\n"
      ],
      "execution_count": 48,
      "outputs": [
        {
          "output_type": "stream",
          "text": [
            "Fitting 3 folds for each of 10 candidates, totalling 30 fits\n"
          ],
          "name": "stdout"
        },
        {
          "output_type": "stream",
          "text": [
            "[Parallel(n_jobs=-1)]: Using backend LokyBackend with 2 concurrent workers.\n",
            "[Parallel(n_jobs=-1)]: Done   1 tasks      | elapsed:  2.5min\n",
            "[Parallel(n_jobs=-1)]: Done   4 tasks      | elapsed:  5.0min\n",
            "[Parallel(n_jobs=-1)]: Done   9 tasks      | elapsed: 10.8min\n",
            "[Parallel(n_jobs=-1)]: Done  14 tasks      | elapsed: 14.8min\n",
            "[Parallel(n_jobs=-1)]: Done  21 tasks      | elapsed: 23.2min\n",
            "[Parallel(n_jobs=-1)]: Done  30 out of  30 | elapsed: 31.2min finished\n"
          ],
          "name": "stderr"
        },
        {
          "output_type": "execute_result",
          "data": {
            "text/plain": [
              "RandomizedSearchCV(cv=3, error_score=nan,\n",
              "                   estimator=XGBClassifier(base_score=0.5, booster='gbtree',\n",
              "                                           colsample_bylevel=1,\n",
              "                                           colsample_bynode=1,\n",
              "                                           colsample_bytree=1, gamma=0,\n",
              "                                           learning_rate=0.1, max_delta_step=0,\n",
              "                                           max_depth=3, min_child_weight=1,\n",
              "                                           missing=None, n_estimators=100,\n",
              "                                           n_jobs=1, nthread=None,\n",
              "                                           objective='binary:logistic',\n",
              "                                           random_state=0, reg_alpha=0,\n",
              "                                           reg_lambda=1, sc...\n",
              "                                           seed=None, silent=None, subsample=1,\n",
              "                                           verbosity=1),\n",
              "                   iid='deprecated', n_iter=10, n_jobs=-1,\n",
              "                   param_distributions={'max_depth': <scipy.stats._distn_infrastructure.rv_frozen object at 0x7f79dc8de438>,\n",
              "                                        'n_estimators': <scipy.stats._distn_infrastructure.rv_frozen object at 0x7f79dc8def60>},\n",
              "                   pre_dispatch='2*n_jobs', random_state=25, refit=True,\n",
              "                   return_train_score=True, scoring='f1', verbose=10)"
            ]
          },
          "metadata": {
            "tags": []
          },
          "execution_count": 48
        }
      ]
    },
    {
      "cell_type": "code",
      "metadata": {
        "id": "yNVJW8ss4FQ_",
        "colab_type": "code",
        "colab": {
          "base_uri": "https://localhost:8080/",
          "height": 204
        },
        "outputId": "dafb84ac-9830-4ce0-e1b9-d8cbec403133"
      },
      "source": [
        "#train score\n",
        "print('mean test scores', fb_model_best_model.cv_results_['mean_test_score'])\n",
        "#test score\n",
        "print('mean train scores',fb_model_best_model.cv_results_['mean_train_score'])\n",
        "#finally print best score\n",
        "print(fb_model_best_model.best_estimator_)"
      ],
      "execution_count": 49,
      "outputs": [
        {
          "output_type": "stream",
          "text": [
            "mean test scores [0.980249   0.98023047 0.97965035 0.97987899 0.97996072 0.97981432\n",
            " 0.98018737 0.97977405 0.98017984 0.98023065]\n",
            "mean train scores [1.         1.         0.99411493 0.99669868 0.99701496 0.99939524\n",
            " 0.99998501 0.99930022 0.99569431 0.99794312]\n",
            "XGBClassifier(base_score=0.5, booster='gbtree', colsample_bylevel=1,\n",
            "              colsample_bynode=1, colsample_bytree=1, gamma=0,\n",
            "              learning_rate=0.1, max_delta_step=0, max_depth=14,\n",
            "              min_child_weight=1, missing=None, n_estimators=120, n_jobs=1,\n",
            "              nthread=None, objective='binary:logistic', random_state=0,\n",
            "              reg_alpha=0, reg_lambda=1, scale_pos_weight=1, seed=None,\n",
            "              silent=None, subsample=1, verbosity=1)\n"
          ],
          "name": "stdout"
        }
      ]
    },
    {
      "cell_type": "code",
      "metadata": {
        "id": "4L70zDmy2pFK",
        "colab_type": "code",
        "colab": {
          "base_uri": "https://localhost:8080/",
          "height": 136
        },
        "outputId": "fc8d699b-279b-4db7-ccc6-525c90600859"
      },
      "source": [
        "#get best model\n",
        "get_best_model_classifier=fb_model_best_model.best_estimator_\n",
        "get_best_model_classifier.best_estimator_"
      ],
      "execution_count": 59,
      "outputs": [
        {
          "output_type": "execute_result",
          "data": {
            "text/plain": [
              "XGBClassifier(base_score=0.5, booster='gbtree', colsample_bylevel=1,\n",
              "              colsample_bynode=1, colsample_bytree=1, gamma=0,\n",
              "              learning_rate=0.1, max_delta_step=0, max_depth=14,\n",
              "              min_child_weight=1, missing=None, n_estimators=120, n_jobs=1,\n",
              "              nthread=None, objective='binary:logistic', random_state=0,\n",
              "              reg_alpha=0, reg_lambda=1, scale_pos_weight=1, seed=None,\n",
              "              silent=None, subsample=1, verbosity=1)"
            ]
          },
          "metadata": {
            "tags": []
          },
          "execution_count": 59
        }
      ]
    },
    {
      "cell_type": "code",
      "metadata": {
        "id": "GP9DGAZtccOV",
        "colab_type": "code",
        "colab": {
          "base_uri": "https://localhost:8080/",
          "height": 51
        },
        "outputId": "a28e1465-30be-4f20-c489-39a49f799d43"
      },
      "source": [
        "#doing model fit \n",
        "get_best_model_classifierf.fit(df_final_train,y_train)\n",
        "#predict on train data\n",
        "y_train_pred = get_best_model_classifier.predict(df_final_train)\n",
        "#predict on test data\n",
        "y_test_pred  = get_best_model_classifierf.predict(df_final_test)\n",
        "#f1 score\n",
        "from sklearn.metrics import f1_score\n",
        "print('FB MODEL TRAIN F1 SCORE',f1_score(y_train,y_train_pred))\n",
        "print('FB MODEL TEST F1 SCORE',f1_score(y_test,y_test_pred))"
      ],
      "execution_count": 53,
      "outputs": [
        {
          "output_type": "stream",
          "text": [
            "FB MODEL TRAIN F1 SCORE 0.9997601822614812\n",
            "FB MODEL TEST F1 SCORE 0.9268334111851884\n"
          ],
          "name": "stdout"
        }
      ]
    },
    {
      "cell_type": "code",
      "metadata": {
        "id": "4jWUJXmT0M3h",
        "colab_type": "code",
        "colab": {
          "base_uri": "https://localhost:8080/",
          "height": 545
        },
        "outputId": "bab9ab6e-e491-41fd-faae-6e72e1d51ce9"
      },
      "source": [
        "print('FB MODEL TRAIN CONFUSION MATRIX')\n",
        "plot_confusion_matrix(y_train,y_train_pred)\n",
        "print('FB MODEL TEST CONFUSION MATRIX')\n",
        "plot_confusion_matrix(y_test,y_test_pred)"
      ],
      "execution_count": 56,
      "outputs": [
        {
          "output_type": "stream",
          "text": [
            "FB MODEL TRAIN CONFUSION MATRIX\n"
          ],
          "name": "stdout"
        },
        {
          "output_type": "display_data",
          "data": {
            "image/png": "[encoded data removed]",
            "text/plain": [
              "<Figure size 1440x288 with 6 Axes>"
            ]
          },
          "metadata": {
            "tags": [],
            "needs_background": "light"
          }
        },
        {
          "output_type": "stream",
          "text": [
            "FB MODEL TEST CONFUSION MATRIX\n"
          ],
          "name": "stdout"
        },
        {
          "output_type": "display_data",
          "data": {
            "image/png": "[encoded data removed]",
            "text/plain": [
              "<Figure size 1440x288 with 6 Axes>"
            ]
          },
          "metadata": {
            "tags": [],
            "needs_background": "light"
          }
        }
      ]
    },
    {
      "cell_type": "code",
      "metadata": {
        "id": "QEJ-CeVz0hRP",
        "colab_type": "code",
        "colab": {
          "base_uri": "https://localhost:8080/",
          "height": 295
        },
        "outputId": "b4abd049-0235-4920-f46d-3e58fda3b442"
      },
      "source": [
        "from sklearn.metrics import roc_curve, auc\n",
        "best_model_fpr,best_model_tpr,best_model_ths = roc_curve(y_test,y_test_pred)\n",
        "best_model_auc_sc = auc(best_model_fpr, best_model_tpr)\n",
        "plt.plot(best_model_fpr, best_model_tpr, color='navy',label='FB MODEL ROC curve (area = %0.2f)' % best_model_auc_sc)\n",
        "plt.xlabel('FB MODEL TRAIN FPR')\n",
        "plt.ylabel('FB MODEL TRAIN  TPR')\n",
        "plt.title('FB MODEL TRAIN  ROC CURVE')\n",
        "plt.legend()\n",
        "plt.show()"
      ],
      "execution_count": 57,
      "outputs": [
        {
          "output_type": "display_data",
          "data": {
            "image/png": "[encoded data removed]",
            "text/plain": [
              "<Figure size 432x288 with 1 Axes>"
            ]
          },
          "metadata": {
            "tags": [],
            "needs_background": "light"
          }
        }
      ]
    },
    {
      "cell_type": "code",
      "metadata": {
        "id": "FXtIfO070_G1",
        "colab_type": "code",
        "colab": {
          "base_uri": "https://localhost:8080/",
          "height": 730
        },
        "outputId": "6590de6e-4005-4db8-944b-60ac8bf69f37"
      },
      "source": [
        "best_model_features = df_final_train.columns\n",
        "best_model_importances = get_best_model_clf.feature_importances_\n",
        "best_model_indices = (np.argsort(best_model_importances))\n",
        "plt.figure(figsize=(10,10))\n",
        "plt.title('FB MODEL FINAL IMPORTANT FEATURES')\n",
        "plt.barh(range(len(best_model_indices)), best_model_importances[best_model_indices], color='r', align='center')\n",
        "plt.yticks(range(len(best_model_indices)), [best_model_features[i] for i in best_model_indices])\n",
        "plt.xlabel('FB MODEL RELATIVE FEATURES')\n",
        "plt.show()"
      ],
      "execution_count": 58,
      "outputs": [
        {
          "output_type": "display_data",
          "data": {
            "image/png": "[encoded data removed]",
            "text/plain": [
              "<Figure size 720x864 with 1 Axes>"
            ]
          },
          "metadata": {
            "tags": [],
            "needs_background": "light"
          }
        }
      ]
    },
    {
      "cell_type": "code",
      "metadata": {
        "id": "EY0A4Yyp1OKH",
        "colab_type": "code",
        "colab": {
          "base_uri": "https://localhost:8080/",
          "height": 119
        },
        "outputId": "e7103732-4068-45c5-8e1c-0f1bf6fec5b3"
      },
      "source": [
        "from prettytable import PrettyTable \n",
        "FB_MODEL = PrettyTable()\n",
        "FB_MODEL.field_names = [\"FB MODEL \", \"ESTIMATORS\", \"MAX_DEPTH\", \"TRAIN F1 SCORE\",\"TEST F1 SCORE\"]\n",
        "FB_MODEL.add_row(['RANDOM FOREST','121','14','0.9652533106548414','0.9241678239279553'])\n",
        "FB_MODEL.add_row(['XGBClassifier','120','14','0.9997601822614812','0.9268334111851884'])\n",
        "print(FB_MODEL)"
      ],
      "execution_count": 60,
      "outputs": [
        {
          "output_type": "stream",
          "text": [
            "+---------------+------------+-----------+--------------------+--------------------+\n",
            "|   FB MODEL    | ESTIMATORS | MAX_DEPTH |   TRAIN F1 SCORE   |   TEST F1 SCORE    |\n",
            "+---------------+------------+-----------+--------------------+--------------------+\n",
            "| RANDOM FOREST |    121     |     14    | 0.9652533106548414 | 0.9241678239279553 |\n",
            "| XGBClassifier |    120     |     14    | 0.9997601822614812 | 0.9268334111851884 |\n",
            "+---------------+------------+-----------+--------------------+--------------------+\n"
          ],
          "name": "stdout"
        }
      ]
    },
    {
      "cell_type": "markdown",
      "metadata": {
        "id": "LsRKn4br4dP_",
        "colab_type": "text"
      },
      "source": [
        "## Observations:\n",
        "### After adding the follwers and follees of additional feature the model performing better.\n",
        "References:\n",
        "  - http://cs229.stanford.edu/proj2007/DaniyalzadeLipus-FacebookFriendSuggestion.pdf\n",
        "  - https://www.appliedaicourse.com/course/4/facebook-friend-recommendation-using-graph-mining\n",
        "  - https://ai.facebook.com/blog/dlrm-an-advanced-open-source-deep-learning-recommendation-model/\n"
      ]
    }
  ]
}