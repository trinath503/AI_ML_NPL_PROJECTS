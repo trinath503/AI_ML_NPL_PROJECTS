{
 "cells": [
  {
   "cell_type": "markdown",
   "metadata": {
    "colab_type": "text",
    "id": "5HExLQrE4ZxR"
   },
   "source": [
    "<h1><font color='blue'> 9E and 9F: Finding the Probability P(Y==1|X)</font></h1>"
   ]
  },
  {
   "cell_type": "markdown",
   "metadata": {
    "colab_type": "text",
    "id": "4LuKrFzC4ZxV"
   },
   "source": [
    "<h2><font color='Geen'> 9E: Implementing Decision Function of SVM RBF Kernel</font></h2>"
   ]
  },
  {
   "cell_type": "markdown",
   "metadata": {
    "colab_type": "text",
    "id": "1wES-wWN4ZxX"
   },
   "source": [
    "<font face=' Comic Sans MS' size=3>After we train a kernel SVM model, we will be getting support vectors and their corresponsing coefficients $\\alpha_{i}$\n",
    "\n",
    "Check the documentation for better understanding of these attributes: \n",
    "\n",
    "https://scikit-learn.org/stable/modules/generated/sklearn.svm.SVC.html\n",
    "<img src='https://i.imgur.com/K11msU4.png' width=500>\n",
    "\n",
    "As a part of this assignment you will be implementing the ```decision_function()``` of kernel SVM, here decision_function() means based on the value return by ```decision_function()``` model will classify the data point either as positive or negative\n",
    "\n",
    "Ex 1: In logistic regression After traning the models with the optimal weights $w$ we get, we will find the value $\\frac{1}{1+\\exp(-(wx+b))}$, if this value comes out to be < 0.5 we will mark it as negative class, else its positive class\n",
    "\n",
    "Ex 2: In Linear SVM After traning the models with the optimal weights $w$ we get, we will find the value of $sign(wx+b)$, if this value comes out to be -ve we will mark it as negative class, else its positive class.\n",
    "\n",
    "Similarly in Kernel SVM After traning the models with the coefficients $\\alpha_{i}$ we get, we will find the value of \n",
    "$sign(\\sum_{i=1}^{n}(y_{i}\\alpha_{i}K(x_{i},x_{q})) + intercept)$, here $K(x_{i},x_{q})$ is the RBF kernel. If this value comes out to be -ve we will mark $x_{q}$ as negative class, else its positive class.\n",
    "\n",
    "RBF kernel is defined as: $K(x_{i},x_{q})$ = $exp(-\\gamma ||x_{i} - x_{q}||^2)$\n",
    "\n",
    "For better understanding check this link: https://scikit-learn.org/stable/modules/svm.html#svm-mathematical-formulation\n",
    "</font>"
   ]
  },
  {
   "cell_type": "markdown",
   "metadata": {
    "colab_type": "text",
    "id": "z830CfMk4Zxa"
   },
   "source": [
    "## Task E"
   ]
  },
  {
   "cell_type": "markdown",
   "metadata": {
    "colab_type": "text",
    "id": "MuBxHiCQ4Zxc"
   },
   "source": [
    "> 1. Split the data into $X_{train}$(60), $X_{cv}$(20), $X_{test}$(20)\n",
    "\n",
    "> 2. Train $SVC(gamma=0.001, C=100.)$ on the ($X_{train}$, $y_{train}$)\n",
    "\n",
    "> 3. Get the decision boundry values $f_{cv}$ on the $X_{cv}$ data  i.e. ` `$f_{cv}$ ```= decision_function(```$X_{cv}$```)```  <font color='red'>you need to implement this decision_function()</font>"
   ]
  },
  {
   "cell_type": "code",
   "execution_count": 2,
   "metadata": {
    "colab": {},
    "colab_type": "code",
    "id": "fCgMNEvI4Zxf"
   },
   "outputs": [],
   "source": [
    "import numpy as np\n",
    "import pandas as pd\n",
    "from sklearn.datasets import make_classification\n",
    "import numpy as np\n",
    "from sklearn.svm import SVC\n",
    "from sklearn.model_selection import train_test_split "
   ]
  },
  {
   "cell_type": "code",
   "execution_count": 3,
   "metadata": {
    "colab": {},
    "colab_type": "code",
    "id": "ANUNIqCe4Zxn"
   },
   "outputs": [
    {
     "data": {
      "text/plain": [
       "((5000, 5), (5000,))"
      ]
     },
     "execution_count": 3,
     "metadata": {},
     "output_type": "execute_result"
    }
   ],
   "source": [
    "X, y = make_classification(n_samples=5000, n_features=5, n_redundant=2,\n",
    "                           n_classes=2, weights=[0.7], class_sep=0.7, random_state=15)\n",
    "X.shape,y.shape"
   ]
  },
  {
   "cell_type": "code",
   "execution_count": 4,
   "metadata": {},
   "outputs": [],
   "source": [
    "X_train, X_test, y_train, y_test = train_test_split(X, y, train_size=.8)"
   ]
  },
  {
   "cell_type": "code",
   "execution_count": 5,
   "metadata": {},
   "outputs": [
    {
     "data": {
      "text/plain": [
       "(4000,)"
      ]
     },
     "execution_count": 5,
     "metadata": {},
     "output_type": "execute_result"
    }
   ],
   "source": [
    "y_train.shape"
   ]
  },
  {
   "cell_type": "code",
   "execution_count": 6,
   "metadata": {},
   "outputs": [
    {
     "data": {
      "text/plain": [
       "SVC(C=100, cache_size=200, class_weight=None, coef0=0.0,\n",
       "    decision_function_shape='ovr', degree=3, gamma=0.001, kernel='rbf',\n",
       "    max_iter=-1, probability=False, random_state=None, shrinking=True,\n",
       "    tol=0.001, verbose=False)"
      ]
     },
     "execution_count": 6,
     "metadata": {},
     "output_type": "execute_result"
    }
   ],
   "source": [
    "# RBF_Kernel_Model = SVC(kernel='rbf', gamma=0.001,C=100)\n",
    "RBF_Kernel_Model = SVC(kernel='rbf',gamma=0.001,C=100)\n",
    "RBF_Kernel_Model.fit(X_train,y_train)\n"
   ]
  },
  {
   "cell_type": "code",
   "execution_count": 7,
   "metadata": {},
   "outputs": [
    {
     "data": {
      "text/plain": [
       "(1, 722)"
      ]
     },
     "execution_count": 7,
     "metadata": {},
     "output_type": "execute_result"
    }
   ],
   "source": [
    "RBF_Kernel_Model.support_\n",
    "RBF_Kernel_Model.dual_coef_.shape"
   ]
  },
  {
   "cell_type": "code",
   "execution_count": 8,
   "metadata": {},
   "outputs": [
    {
     "data": {
      "text/plain": [
       "(4000, 5)"
      ]
     },
     "execution_count": 8,
     "metadata": {},
     "output_type": "execute_result"
    }
   ],
   "source": [
    "X_train.shape"
   ]
  },
  {
   "cell_type": "code",
   "execution_count": 9,
   "metadata": {},
   "outputs": [],
   "source": [
    "get_test_values = RBF_Kernel_Model.decision_function(X_test)"
   ]
  },
  {
   "cell_type": "code",
   "execution_count": 10,
   "metadata": {},
   "outputs": [
    {
     "data": {
      "text/plain": [
       "-0.8063602054747758"
      ]
     },
     "execution_count": 10,
     "metadata": {},
     "output_type": "execute_result"
    }
   ],
   "source": [
    "get_test_values[0]"
   ]
  },
  {
   "cell_type": "code",
   "execution_count": 11,
   "metadata": {},
   "outputs": [],
   "source": [
    "get_alpha_values = RBF_Kernel_Model.dual_coef_[0]"
   ]
  },
  {
   "cell_type": "code",
   "execution_count": 12,
   "metadata": {},
   "outputs": [
    {
     "data": {
      "text/plain": [
       "722"
      ]
     },
     "execution_count": 12,
     "metadata": {},
     "output_type": "execute_result"
    }
   ],
   "source": [
    "len(RBF_Kernel_Model.support_vectors_)\n",
    "\n"
   ]
  },
  {
   "cell_type": "markdown",
   "metadata": {},
   "source": [
    "### Pseudo code\n",
    "\n",
    "clf = SVC(gamma=0.001, C=100.)<br>\n",
    "clf.fit(Xtrain, ytrain)\n",
    "\n",
    "<font color='green'>def</font> <font color='blue'>decision_function</font>(Xcv, ...): #use appropriate parameters <br>\n",
    "&nbsp;&nbsp;&nbsp;&nbsp;&nbsp;&nbsp;<font color='green'>for</font> a data point $x_q$ <font color='green'>in</font> Xcv: <br>\n",
    "&nbsp;&nbsp;&nbsp;&nbsp;&nbsp;&nbsp;&nbsp;&nbsp;&nbsp;&nbsp;&nbsp;&nbsp;<font color='grey'>#write code to implement $(\\sum_{i=1}^{\\text{all the support vectors}}(y_{i}\\alpha_{i}K(x_{i},x_{q})) + intercept)$, here the values $y_i$, $\\alpha_{i}$, and $intercept$ can be obtained from the trained model</font><br>\n",
    "   <font color='green'>return</font> <font color='grey'><i># the decision_function output for all the data points in the Xcv</i></font>\n",
    "    \n",
    "fcv = decision_function(Xcv, ...)  <i># based on your requirement you can pass any other parameters </i>\n",
    "\n",
    "<b>Note</b>: Make sure the values you get as fcv, should be equal to outputs of clf.decision_function(Xcv)\n"
   ]
  },
  {
   "cell_type": "code",
   "execution_count": 13,
   "metadata": {},
   "outputs": [],
   "source": [
    "def RBF_KERNEL_DECISION_FUNCTION(total_test_points):\n",
    "    decision_function_values = []\n",
    "    for each_point in total_test_points:\n",
    "        total =0\n",
    "        gamma=0.001\n",
    "        intercept_val  = RBF_Kernel_Model.intercept_\n",
    "        for i in range(len(RBF_Kernel_Model.support_vectors_)):\n",
    "            get_sq_diff = np.linalg.norm(each_point-RBF_Kernel_Model.support_vectors_[i])**2\n",
    "            rbf_kernel  = np.exp(-(gamma *get_sq_diff))\n",
    "            total      += (get_alpha_values[i]*rbf_kernel) \n",
    "        decision_function_values.append(total +intercept_val)\n",
    "    return decision_function_values"
   ]
  },
  {
   "cell_type": "code",
   "execution_count": 14,
   "metadata": {},
   "outputs": [
    {
     "data": {
      "text/plain": [
       "[array([-0.80636021]),\n",
       " array([-3.11113777]),\n",
       " array([-0.36587513]),\n",
       " array([1.89549993]),\n",
       " array([-1.15409379])]"
      ]
     },
     "execution_count": 14,
     "metadata": {},
     "output_type": "execute_result"
    }
   ],
   "source": [
    "RBF_KERNEL_DECISION_FUNCTION(X_test[:5])"
   ]
  },
  {
   "cell_type": "code",
   "execution_count": 15,
   "metadata": {},
   "outputs": [
    {
     "data": {
      "text/plain": [
       "array([-0.80636021, -3.11113777, -0.36587513,  1.89549993, -1.15409379])"
      ]
     },
     "execution_count": 15,
     "metadata": {},
     "output_type": "execute_result"
    }
   ],
   "source": [
    "RBF_Kernel_Model.decision_function(X_test[:5])"
   ]
  },
  {
   "cell_type": "code",
   "execution_count": 26,
   "metadata": {},
   "outputs": [
    {
     "data": {
      "text/plain": [
       "[array([-0.80636021]),\n",
       " array([-3.11113777]),\n",
       " array([-0.36587513]),\n",
       " array([1.89549993]),\n",
       " array([-1.15409379]),\n",
       " array([-2.41478171]),\n",
       " array([-4.99665702]),\n",
       " array([0.56402146]),\n",
       " array([-2.86765192]),\n",
       " array([0.94278411]),\n",
       " array([-3.38680868]),\n",
       " array([-1.40625247]),\n",
       " array([-2.24491046]),\n",
       " array([-4.22186031]),\n",
       " array([1.36885101]),\n",
       " array([1.93041862]),\n",
       " array([2.03948558]),\n",
       " array([-2.04727233]),\n",
       " array([-0.01540417]),\n",
       " array([-2.89778054]),\n",
       " array([-1.85448129]),\n",
       " array([-2.63707739]),\n",
       " array([-3.39528853]),\n",
       " array([3.21661904]),\n",
       " array([2.3142519]),\n",
       " array([-0.71953704]),\n",
       " array([-4.20843383]),\n",
       " array([-4.19220976]),\n",
       " array([-2.47045345]),\n",
       " array([-3.27028574]),\n",
       " array([-3.47561328]),\n",
       " array([-0.24751999]),\n",
       " array([-2.18451376]),\n",
       " array([-3.14692602]),\n",
       " array([-2.33349789]),\n",
       " array([-2.89248833]),\n",
       " array([-1.36925293]),\n",
       " array([2.56061092]),\n",
       " array([-2.56076926]),\n",
       " array([-1.30771669]),\n",
       " array([-3.49289304]),\n",
       " array([1.4814673]),\n",
       " array([0.05983271]),\n",
       " array([-2.25090381]),\n",
       " array([-1.78887125]),\n",
       " array([-3.64370799]),\n",
       " array([-2.6379197]),\n",
       " array([0.0533227]),\n",
       " array([-1.39960747]),\n",
       " array([0.4177524]),\n",
       " array([-0.02766836]),\n",
       " array([-0.95643032]),\n",
       " array([-2.6532262]),\n",
       " array([-0.84291281]),\n",
       " array([2.043483]),\n",
       " array([-3.41602361]),\n",
       " array([-3.10812206]),\n",
       " array([-0.14403956]),\n",
       " array([1.29142838]),\n",
       " array([-1.48429733]),\n",
       " array([2.41621608]),\n",
       " array([-2.52818392]),\n",
       " array([-2.68125405]),\n",
       " array([-4.5978214]),\n",
       " array([-0.34160313]),\n",
       " array([0.96551852]),\n",
       " array([2.07394393]),\n",
       " array([-1.12222278]),\n",
       " array([1.55129475]),\n",
       " array([-3.61716598]),\n",
       " array([-3.17637184]),\n",
       " array([-1.84934008]),\n",
       " array([1.8112053]),\n",
       " array([1.84661086]),\n",
       " array([-0.35175439]),\n",
       " array([-4.26961642]),\n",
       " array([-1.89996039]),\n",
       " array([-1.87597017]),\n",
       " array([-2.26292352]),\n",
       " array([-2.24989815]),\n",
       " array([-2.46304206]),\n",
       " array([-2.81448179]),\n",
       " array([0.23857634]),\n",
       " array([-2.55788081]),\n",
       " array([0.86528073]),\n",
       " array([1.39990795]),\n",
       " array([-2.3265846]),\n",
       " array([0.77903243]),\n",
       " array([-1.58439606]),\n",
       " array([-3.37257651]),\n",
       " array([-0.41481401]),\n",
       " array([-3.46365341]),\n",
       " array([0.84057706]),\n",
       " array([-1.61171592]),\n",
       " array([1.01645785]),\n",
       " array([-2.56682531]),\n",
       " array([-2.93458035]),\n",
       " array([0.53834641]),\n",
       " array([-1.34745109]),\n",
       " array([-0.40616274]),\n",
       " array([-1.04606076]),\n",
       " array([-1.69676859]),\n",
       " array([-4.39506344]),\n",
       " array([-2.60738627]),\n",
       " array([0.36067857]),\n",
       " array([-0.48719271]),\n",
       " array([-1.50551792]),\n",
       " array([-3.10162269]),\n",
       " array([1.80442672]),\n",
       " array([-2.96680532]),\n",
       " array([0.10936928]),\n",
       " array([-0.91513529]),\n",
       " array([-2.76402455]),\n",
       " array([-0.71735244]),\n",
       " array([-2.64134424]),\n",
       " array([0.31766337]),\n",
       " array([-2.06667696]),\n",
       " array([-3.93106459]),\n",
       " array([1.63204849]),\n",
       " array([1.35215877]),\n",
       " array([-3.05645093]),\n",
       " array([0.70448842]),\n",
       " array([-2.69416493]),\n",
       " array([1.66120416]),\n",
       " array([-3.72745582]),\n",
       " array([-2.93547391]),\n",
       " array([-2.32855238]),\n",
       " array([-2.75585756]),\n",
       " array([1.02867911]),\n",
       " array([-0.21697326]),\n",
       " array([-2.2984894]),\n",
       " array([-0.25117099]),\n",
       " array([1.88913543]),\n",
       " array([-1.6076442]),\n",
       " array([-1.18603482]),\n",
       " array([-1.69941504]),\n",
       " array([-1.49370988]),\n",
       " array([-2.82286271]),\n",
       " array([-2.37930479]),\n",
       " array([-2.01136195]),\n",
       " array([1.73698255]),\n",
       " array([-3.50030476]),\n",
       " array([1.92935423]),\n",
       " array([-2.45670665]),\n",
       " array([-3.06398]),\n",
       " array([-2.67110831]),\n",
       " array([-2.40848565]),\n",
       " array([1.61156886]),\n",
       " array([-2.21345076]),\n",
       " array([1.51320406]),\n",
       " array([-2.86045615]),\n",
       " array([1.24165501]),\n",
       " array([-3.31241283]),\n",
       " array([0.85476357]),\n",
       " array([-3.17043229]),\n",
       " array([-1.77407019]),\n",
       " array([-0.02128412]),\n",
       " array([-2.66059518]),\n",
       " array([-3.25427222]),\n",
       " array([2.2045951]),\n",
       " array([-2.64760291]),\n",
       " array([-4.86032741]),\n",
       " array([-4.00138323]),\n",
       " array([-1.75471253]),\n",
       " array([-1.31639343]),\n",
       " array([-2.16463525]),\n",
       " array([-1.64863241]),\n",
       " array([1.73382687]),\n",
       " array([-3.68694595]),\n",
       " array([-2.14089292]),\n",
       " array([1.39697397]),\n",
       " array([-1.20687093]),\n",
       " array([0.56938011]),\n",
       " array([0.75059086]),\n",
       " array([-2.49906284]),\n",
       " array([1.4288315]),\n",
       " array([1.43021801]),\n",
       " array([1.99275186]),\n",
       " array([-2.41023419]),\n",
       " array([-1.58978197]),\n",
       " array([-1.68999805]),\n",
       " array([-0.65967916]),\n",
       " array([-0.5580356]),\n",
       " array([-3.19282481]),\n",
       " array([-0.58662967]),\n",
       " array([-3.22909106]),\n",
       " array([1.17281763]),\n",
       " array([-3.65657972]),\n",
       " array([-0.61338198]),\n",
       " array([-1.21266757]),\n",
       " array([-3.13003265]),\n",
       " array([0.58683457]),\n",
       " array([-2.77112603]),\n",
       " array([-0.16433376]),\n",
       " array([-2.21535878]),\n",
       " array([-4.01667524]),\n",
       " array([2.13213524]),\n",
       " array([1.73192511]),\n",
       " array([-3.42702132]),\n",
       " array([-3.73455085]),\n",
       " array([1.87499279]),\n",
       " array([-4.03639702]),\n",
       " array([-3.47699984]),\n",
       " array([-2.57054732]),\n",
       " array([-2.23844083]),\n",
       " array([-0.94072544]),\n",
       " array([-2.95319921]),\n",
       " array([1.88905584]),\n",
       " array([1.66654242]),\n",
       " array([-4.16584309]),\n",
       " array([0.05464325]),\n",
       " array([-1.73795314]),\n",
       " array([1.16279572]),\n",
       " array([-1.65512848]),\n",
       " array([0.97862785]),\n",
       " array([-2.8140204]),\n",
       " array([-3.52031617]),\n",
       " array([-3.0021994]),\n",
       " array([-2.86353745]),\n",
       " array([-3.02004147]),\n",
       " array([1.96212005]),\n",
       " array([1.85561658]),\n",
       " array([-2.08882842]),\n",
       " array([-3.47088932]),\n",
       " array([-2.37336482]),\n",
       " array([3.03160609]),\n",
       " array([-4.75110573]),\n",
       " array([-3.99558665]),\n",
       " array([-0.24532876]),\n",
       " array([-4.54918077]),\n",
       " array([-2.7234288]),\n",
       " array([1.17567619]),\n",
       " array([-2.47313164]),\n",
       " array([-2.03483289]),\n",
       " array([-1.61563186]),\n",
       " array([-2.95952339]),\n",
       " array([-2.57675281]),\n",
       " array([-2.45865395]),\n",
       " array([-2.95459727]),\n",
       " array([-2.38701292]),\n",
       " array([-2.24802427]),\n",
       " array([-2.69807263]),\n",
       " array([0.32702108]),\n",
       " array([1.90246314]),\n",
       " array([-1.99803493]),\n",
       " array([1.66846058]),\n",
       " array([-2.41236651]),\n",
       " array([-3.9767538]),\n",
       " array([-2.28703969]),\n",
       " array([-3.16870256]),\n",
       " array([-4.94397291]),\n",
       " array([-1.97429067]),\n",
       " array([3.60240814]),\n",
       " array([1.75935416]),\n",
       " array([-2.23271957]),\n",
       " array([1.97486629]),\n",
       " array([-3.23831428]),\n",
       " array([1.69490658]),\n",
       " array([-3.13514748]),\n",
       " array([-2.22785234]),\n",
       " array([-0.42178407]),\n",
       " array([-3.61287777]),\n",
       " array([1.38387352]),\n",
       " array([-1.36138801]),\n",
       " array([-2.53941678]),\n",
       " array([-3.83960431]),\n",
       " array([-4.55463143]),\n",
       " array([0.91780307]),\n",
       " array([1.03693445]),\n",
       " array([2.07862703]),\n",
       " array([-2.22957266]),\n",
       " array([-4.00450693]),\n",
       " array([4.56368419]),\n",
       " array([1.14374772]),\n",
       " array([-3.17552934]),\n",
       " array([-2.58510985]),\n",
       " array([-1.4214387]),\n",
       " array([-1.00446245]),\n",
       " array([0.27917663]),\n",
       " array([2.16030015]),\n",
       " array([-1.36180342]),\n",
       " array([-1.95027897]),\n",
       " array([-2.61074875]),\n",
       " array([-3.40537485]),\n",
       " array([-0.17971264]),\n",
       " array([-2.28138479]),\n",
       " array([0.2620056]),\n",
       " array([1.6015105]),\n",
       " array([-3.08121662]),\n",
       " array([-1.80013114]),\n",
       " array([0.79957339]),\n",
       " array([-2.88909022]),\n",
       " array([-2.10576665]),\n",
       " array([-3.6733415]),\n",
       " array([-2.83281429]),\n",
       " array([-0.79567013]),\n",
       " array([-3.04581519]),\n",
       " array([0.40677422]),\n",
       " array([-1.07288037]),\n",
       " array([-2.92846868]),\n",
       " array([-0.13163983]),\n",
       " array([0.251278]),\n",
       " array([-2.56980834]),\n",
       " array([1.51279882]),\n",
       " array([-1.61335595]),\n",
       " array([-1.66706411]),\n",
       " array([-2.67179059]),\n",
       " array([1.29362991]),\n",
       " array([-3.43930573]),\n",
       " array([-0.89276181]),\n",
       " array([1.90598538]),\n",
       " array([-0.26306767]),\n",
       " array([-2.16493907]),\n",
       " array([-3.98053559]),\n",
       " array([-2.44122199]),\n",
       " array([1.81961081]),\n",
       " array([-2.29537682]),\n",
       " array([-3.27276131]),\n",
       " array([-1.07821637]),\n",
       " array([-0.99866512]),\n",
       " array([-3.05632887]),\n",
       " array([-4.3913686]),\n",
       " array([1.70889018]),\n",
       " array([-3.91512611]),\n",
       " array([-3.96655142]),\n",
       " array([-1.14869682]),\n",
       " array([-2.35583971]),\n",
       " array([-2.85919212]),\n",
       " array([-2.05401715]),\n",
       " array([1.11467107]),\n",
       " array([-0.03467505]),\n",
       " array([-2.8107906]),\n",
       " array([0.45305799]),\n",
       " array([-0.00382978]),\n",
       " array([-2.5899388]),\n",
       " array([-3.39842599]),\n",
       " array([-0.91715011]),\n",
       " array([-1.89659007]),\n",
       " array([-3.52472948]),\n",
       " array([-0.72236879]),\n",
       " array([-3.48485541]),\n",
       " array([2.48311894]),\n",
       " array([-3.11210615]),\n",
       " array([-3.29827015]),\n",
       " array([-2.87606527]),\n",
       " array([-3.28256961]),\n",
       " array([-0.14756275]),\n",
       " array([-3.70230724]),\n",
       " array([0.28882195]),\n",
       " array([1.05909074]),\n",
       " array([1.77331474]),\n",
       " array([3.20599276]),\n",
       " array([0.20841873]),\n",
       " array([0.15048195]),\n",
       " array([-2.83797937]),\n",
       " array([-2.98860222]),\n",
       " array([2.57647733]),\n",
       " array([-1.67802298]),\n",
       " array([-2.0056078]),\n",
       " array([1.83997192]),\n",
       " array([-1.3485985]),\n",
       " array([0.80906445]),\n",
       " array([-3.17451031]),\n",
       " array([-2.89202256]),\n",
       " array([-3.15508657]),\n",
       " array([-0.24757377]),\n",
       " array([-3.70766851]),\n",
       " array([0.28961114]),\n",
       " array([-2.79715971]),\n",
       " array([-2.72686646]),\n",
       " array([2.23455979]),\n",
       " array([-4.25568162]),\n",
       " array([-2.81551711]),\n",
       " array([1.19661318]),\n",
       " array([2.52928241]),\n",
       " array([1.27415545]),\n",
       " array([1.61134788]),\n",
       " array([-3.40662336]),\n",
       " array([-1.74607494]),\n",
       " array([-3.33639241]),\n",
       " array([-1.32179975]),\n",
       " array([1.59274908]),\n",
       " array([-4.30167631]),\n",
       " array([-2.20949767]),\n",
       " array([2.44904771]),\n",
       " array([1.50397838]),\n",
       " array([1.69888215]),\n",
       " array([-2.54981495]),\n",
       " array([-0.81438521]),\n",
       " array([-3.81967329]),\n",
       " array([-3.12400953]),\n",
       " array([2.0858289]),\n",
       " array([1.50571838]),\n",
       " array([-3.59738738]),\n",
       " array([-3.16289869]),\n",
       " array([-3.73272006]),\n",
       " array([1.29583133]),\n",
       " array([-3.98587715]),\n",
       " array([-2.57963109]),\n",
       " array([3.97259295]),\n",
       " array([-3.67091007]),\n",
       " array([-2.22241488]),\n",
       " array([-2.77315742]),\n",
       " array([1.21882444]),\n",
       " array([-3.18023952]),\n",
       " array([-2.468379]),\n",
       " array([-3.70640873]),\n",
       " array([-2.81047832]),\n",
       " array([-2.30245754]),\n",
       " array([-2.60459257]),\n",
       " array([2.02698237]),\n",
       " array([-1.22163795]),\n",
       " array([-3.15529355]),\n",
       " array([0.18981695]),\n",
       " array([-1.29612569]),\n",
       " array([-3.05738441]),\n",
       " array([0.34603733]),\n",
       " array([-2.67381148]),\n",
       " array([1.21632965]),\n",
       " array([-2.20160072]),\n",
       " array([0.46616891]),\n",
       " array([1.55551055]),\n",
       " array([-1.34663799]),\n",
       " array([-1.60210128]),\n",
       " array([-3.44278644]),\n",
       " array([2.31337758]),\n",
       " array([1.89578144]),\n",
       " array([-3.13027803]),\n",
       " array([1.72519607]),\n",
       " array([-2.75585425]),\n",
       " array([1.99376372]),\n",
       " array([2.26464356]),\n",
       " array([-3.37434517]),\n",
       " array([-1.05272981]),\n",
       " array([-3.52558344]),\n",
       " array([0.89793408]),\n",
       " array([-2.23030602]),\n",
       " array([-0.17377102]),\n",
       " array([-1.71668055]),\n",
       " array([-3.2631979]),\n",
       " array([-2.32115243]),\n",
       " array([-1.80301477]),\n",
       " array([-3.6613644]),\n",
       " array([-3.63433221]),\n",
       " array([1.17479048]),\n",
       " array([-2.47946875]),\n",
       " array([-3.17460756]),\n",
       " array([-1.92078153]),\n",
       " array([0.80804994]),\n",
       " array([1.84919925]),\n",
       " array([-3.13158871]),\n",
       " array([1.77758175]),\n",
       " array([-0.49070111]),\n",
       " array([-4.37432076]),\n",
       " array([-2.17482583]),\n",
       " array([-2.51877168]),\n",
       " array([-1.82219897]),\n",
       " array([-3.79741454]),\n",
       " array([2.02553592]),\n",
       " array([-1.30629819]),\n",
       " array([2.14804638]),\n",
       " array([-2.43126872]),\n",
       " array([1.59630144]),\n",
       " array([-2.37658976]),\n",
       " array([-4.90847532]),\n",
       " array([-5.69526187]),\n",
       " array([-3.11809862]),\n",
       " array([1.29229246]),\n",
       " array([-2.98486718]),\n",
       " array([-1.6170933]),\n",
       " array([-1.46374437]),\n",
       " array([1.76834776]),\n",
       " array([1.5330931]),\n",
       " array([0.74298247]),\n",
       " array([-0.78791469]),\n",
       " array([-4.19783084]),\n",
       " array([-3.17765134]),\n",
       " array([0.45766928]),\n",
       " array([1.42273731]),\n",
       " array([-2.28921938]),\n",
       " array([-1.23549457]),\n",
       " array([0.34153796]),\n",
       " array([-3.158856]),\n",
       " array([-3.28689383]),\n",
       " array([1.88713711]),\n",
       " array([1.46336288]),\n",
       " array([0.66476073]),\n",
       " array([-3.70093988]),\n",
       " array([-3.04842141]),\n",
       " array([2.13030514]),\n",
       " array([-2.76423518]),\n",
       " array([1.31655519]),\n",
       " array([-3.03272499]),\n",
       " array([-2.10664438]),\n",
       " array([-3.48358562]),\n",
       " array([-1.07978313]),\n",
       " array([1.4165602]),\n",
       " array([-2.60202718]),\n",
       " array([-0.52037408]),\n",
       " array([1.81381017]),\n",
       " array([-1.72610887]),\n",
       " array([1.12143467]),\n",
       " array([0.09212869]),\n",
       " array([-2.98313429]),\n",
       " array([1.78260564]),\n",
       " array([-1.67395716]),\n",
       " array([-2.29906968]),\n",
       " array([-1.39224362]),\n",
       " array([2.03540571]),\n",
       " array([-3.09445379]),\n",
       " array([-2.32977818]),\n",
       " array([-2.76719777]),\n",
       " array([-1.37389946]),\n",
       " array([-2.35596986]),\n",
       " array([-2.87367561]),\n",
       " array([-4.39428249]),\n",
       " array([-1.58453347]),\n",
       " array([-0.70785337]),\n",
       " array([0.57984075]),\n",
       " array([1.41558896]),\n",
       " array([2.0477792]),\n",
       " array([-3.32115287]),\n",
       " array([-1.28625162]),\n",
       " array([1.82672836]),\n",
       " array([-3.42304386]),\n",
       " array([-2.54279815]),\n",
       " array([1.39103836]),\n",
       " array([1.73348393]),\n",
       " array([-5.4006405]),\n",
       " array([-1.66364367]),\n",
       " array([-4.39009677]),\n",
       " array([-1.56553677]),\n",
       " array([-1.87683591]),\n",
       " array([1.64154861]),\n",
       " array([-3.05931299]),\n",
       " array([1.83719942]),\n",
       " array([-3.13537984]),\n",
       " array([-1.92423013]),\n",
       " array([-3.76030296]),\n",
       " array([-2.89379726]),\n",
       " array([-2.9867828]),\n",
       " array([-3.64450128]),\n",
       " array([-3.46936544]),\n",
       " array([-2.19852898]),\n",
       " array([-3.20512248]),\n",
       " array([-0.7153287]),\n",
       " array([-1.34336709]),\n",
       " array([-1.78258929]),\n",
       " array([-2.12593533]),\n",
       " array([-2.66480959]),\n",
       " array([-2.28449204]),\n",
       " array([-2.89113236]),\n",
       " array([-1.66484498]),\n",
       " array([-2.5002119]),\n",
       " array([-1.92664234]),\n",
       " array([-3.42870696]),\n",
       " array([-1.52175904]),\n",
       " array([-1.07412717]),\n",
       " array([-2.2733846]),\n",
       " array([-2.80616101]),\n",
       " array([-2.09573582]),\n",
       " array([-2.66342734]),\n",
       " array([1.491841]),\n",
       " array([-3.585005]),\n",
       " array([-3.25226225]),\n",
       " array([-3.4380464]),\n",
       " array([-3.35825902]),\n",
       " array([-2.97469696]),\n",
       " array([-0.66015041]),\n",
       " array([-2.59216021]),\n",
       " array([-2.50354439]),\n",
       " array([-3.68523215]),\n",
       " array([-3.43630327]),\n",
       " array([-2.7803924]),\n",
       " array([-3.45413421]),\n",
       " array([-0.7004333]),\n",
       " array([-1.47402824]),\n",
       " array([-1.02386341]),\n",
       " array([0.84939526]),\n",
       " array([-2.96753931]),\n",
       " array([0.52897971]),\n",
       " array([-2.38384402]),\n",
       " array([-1.8407605]),\n",
       " array([-1.42351228]),\n",
       " array([-0.25972146]),\n",
       " array([-2.74803653]),\n",
       " array([-2.40024694]),\n",
       " array([2.21922199]),\n",
       " array([1.91889525]),\n",
       " array([-0.31413911]),\n",
       " array([-2.49338801]),\n",
       " array([-2.88501813]),\n",
       " array([-1.8573492]),\n",
       " array([-2.4992518]),\n",
       " array([1.9355984]),\n",
       " array([-1.34622732]),\n",
       " array([-4.10656718]),\n",
       " array([-0.3819411]),\n",
       " array([-3.03218453]),\n",
       " array([-1.16225414]),\n",
       " array([-2.60430643]),\n",
       " array([1.4728288]),\n",
       " array([-3.43654095]),\n",
       " array([1.71469081]),\n",
       " array([-1.9544461]),\n",
       " array([-0.7435947]),\n",
       " array([-2.8675288]),\n",
       " array([-2.08327818]),\n",
       " array([-1.85644881]),\n",
       " array([-0.81402699]),\n",
       " array([1.33661355]),\n",
       " array([1.09744571]),\n",
       " array([-3.0174199]),\n",
       " array([-3.37640806]),\n",
       " array([0.84930909]),\n",
       " array([1.88086194]),\n",
       " array([0.46928962]),\n",
       " array([1.81062857]),\n",
       " array([-3.54740933]),\n",
       " array([-1.99390665]),\n",
       " array([-2.82198558]),\n",
       " array([0.35864643]),\n",
       " array([-2.70163219]),\n",
       " array([-3.67223422]),\n",
       " array([-0.83535461]),\n",
       " array([2.52635659]),\n",
       " array([-2.92142106]),\n",
       " array([-2.56906381]),\n",
       " array([-1.84424213]),\n",
       " array([1.22706499]),\n",
       " array([1.44203538]),\n",
       " array([-4.08922923]),\n",
       " array([-3.79660806]),\n",
       " array([0.61769764]),\n",
       " array([-1.50150725]),\n",
       " array([0.86825637]),\n",
       " array([-0.15925696]),\n",
       " array([-2.51293115]),\n",
       " array([-0.1662331]),\n",
       " array([-3.73340073]),\n",
       " array([-3.25077762]),\n",
       " array([-3.96038672]),\n",
       " array([1.71811742]),\n",
       " array([-2.51353372]),\n",
       " array([-1.44344367]),\n",
       " array([-1.98008599]),\n",
       " array([1.7841017]),\n",
       " array([-2.78281143]),\n",
       " array([-3.59713014]),\n",
       " array([-2.76292256]),\n",
       " array([-1.83160329]),\n",
       " array([-1.97663453]),\n",
       " array([-2.31157928]),\n",
       " array([-3.39427921]),\n",
       " array([-1.66558188]),\n",
       " array([-3.42757958]),\n",
       " array([-1.69375662]),\n",
       " array([-1.01696141]),\n",
       " array([-2.09065156]),\n",
       " array([-1.68475391]),\n",
       " array([1.4135798]),\n",
       " array([1.91027031]),\n",
       " array([-3.64799475]),\n",
       " array([-2.89336605]),\n",
       " array([-3.08134054]),\n",
       " array([-0.93722377]),\n",
       " array([-4.05202209]),\n",
       " array([0.09390611]),\n",
       " array([-1.16604763]),\n",
       " array([-1.15440377]),\n",
       " array([-3.08021984]),\n",
       " array([-1.36909195]),\n",
       " array([-0.86297727]),\n",
       " array([0.71304722]),\n",
       " array([-1.84830619]),\n",
       " array([-2.93375349]),\n",
       " array([-1.04167059]),\n",
       " array([-3.2262092]),\n",
       " array([-3.16745474]),\n",
       " array([1.42471359]),\n",
       " array([1.32963356]),\n",
       " array([-2.46256185]),\n",
       " array([2.33993559]),\n",
       " array([-2.12043297]),\n",
       " array([-3.70889672]),\n",
       " array([-4.48976304]),\n",
       " array([-3.16815029]),\n",
       " array([-0.14417673]),\n",
       " array([-2.80671824]),\n",
       " array([-0.3593143]),\n",
       " array([0.63570207]),\n",
       " array([1.67589144]),\n",
       " array([-2.81696558]),\n",
       " array([3.0678936]),\n",
       " array([2.04124513]),\n",
       " array([-2.16536829]),\n",
       " array([2.35948006]),\n",
       " array([-1.75021907]),\n",
       " array([-3.01226865]),\n",
       " array([-0.77594424]),\n",
       " array([1.9121239]),\n",
       " array([1.85821929]),\n",
       " array([-1.77936625]),\n",
       " array([-2.58320243]),\n",
       " array([1.70853933]),\n",
       " array([1.76738462]),\n",
       " array([-1.86270381]),\n",
       " array([0.45445534]),\n",
       " array([-2.56516446]),\n",
       " array([-0.00961849]),\n",
       " array([-0.0986176]),\n",
       " array([-2.328866]),\n",
       " array([-1.07304299]),\n",
       " array([-3.07976902]),\n",
       " array([0.30794138]),\n",
       " array([-2.1995385]),\n",
       " array([-0.64568427]),\n",
       " array([-1.26745041]),\n",
       " array([-3.47079865]),\n",
       " array([-4.26413709]),\n",
       " array([1.71198455]),\n",
       " array([0.69638989]),\n",
       " array([-3.24041619]),\n",
       " array([-2.92862867]),\n",
       " array([-2.60942362]),\n",
       " array([-2.43627602]),\n",
       " array([-2.47075054]),\n",
       " array([1.10702746]),\n",
       " array([2.09982995]),\n",
       " array([-2.31197399]),\n",
       " array([-2.21608354]),\n",
       " array([-2.77115256]),\n",
       " array([-0.54600743]),\n",
       " array([-1.35367772]),\n",
       " array([-4.01614661]),\n",
       " array([-3.30488964]),\n",
       " array([1.79767419]),\n",
       " array([1.42723479]),\n",
       " array([1.20534658]),\n",
       " array([1.99845107]),\n",
       " array([-2.22698849]),\n",
       " array([-1.26710704]),\n",
       " array([1.51620394]),\n",
       " array([-3.23774212]),\n",
       " array([-4.67897254]),\n",
       " array([0.20170028]),\n",
       " array([-4.0972658]),\n",
       " array([-3.87478676]),\n",
       " array([-2.34284102]),\n",
       " array([2.11689622]),\n",
       " array([-0.46599454]),\n",
       " array([-2.40925501]),\n",
       " array([-3.29521075]),\n",
       " array([-1.6721964]),\n",
       " array([-4.34392198]),\n",
       " array([-3.08347095]),\n",
       " array([2.71159263]),\n",
       " array([-3.86316794]),\n",
       " array([-2.34114304]),\n",
       " array([-2.30895048]),\n",
       " array([-0.33446141]),\n",
       " array([0.32036477]),\n",
       " array([-3.42033293]),\n",
       " array([1.14030994]),\n",
       " array([-2.04256845]),\n",
       " array([0.89909215]),\n",
       " array([-4.68855966]),\n",
       " array([1.46615275]),\n",
       " array([-2.29190447]),\n",
       " array([-0.89165522]),\n",
       " array([-4.15390465]),\n",
       " array([-2.18083814]),\n",
       " array([-1.74630074]),\n",
       " array([-2.46821007]),\n",
       " array([-1.77090581]),\n",
       " array([-3.12610464]),\n",
       " array([-0.87415578]),\n",
       " array([1.62920373]),\n",
       " array([-2.48689097]),\n",
       " array([-2.61827193]),\n",
       " array([-3.39535416]),\n",
       " array([-1.82878463]),\n",
       " array([-2.03496893]),\n",
       " array([-2.77223622]),\n",
       " array([1.67573322]),\n",
       " array([-3.5607212]),\n",
       " array([-3.70724419]),\n",
       " array([-1.62760002]),\n",
       " array([-3.15870777]),\n",
       " array([1.20249616]),\n",
       " array([-1.8835496]),\n",
       " array([-1.63187418]),\n",
       " array([-2.25115971]),\n",
       " array([-3.4776649]),\n",
       " array([-2.83729405]),\n",
       " array([-2.17374954]),\n",
       " array([1.67440908]),\n",
       " array([1.8801128]),\n",
       " array([1.86135382]),\n",
       " array([-4.33107748]),\n",
       " array([1.96413877]),\n",
       " array([-3.01920085]),\n",
       " array([-2.90066611]),\n",
       " array([-2.14845604]),\n",
       " array([2.60640983]),\n",
       " array([-1.91385285]),\n",
       " array([-4.20832064]),\n",
       " array([-2.47134437]),\n",
       " array([1.4482758]),\n",
       " array([1.86583133]),\n",
       " array([-3.46535999]),\n",
       " array([1.48811098]),\n",
       " array([-2.38523762]),\n",
       " array([-2.70302192]),\n",
       " array([-2.74107922]),\n",
       " array([1.80025163]),\n",
       " array([-4.23634978]),\n",
       " array([-5.3415209]),\n",
       " array([-3.82636051]),\n",
       " array([-2.74603818]),\n",
       " array([1.01613252]),\n",
       " array([0.96004957]),\n",
       " array([-2.25195935]),\n",
       " array([-2.50524339]),\n",
       " array([-2.30060124]),\n",
       " array([-2.20236133]),\n",
       " array([-3.6539328]),\n",
       " array([-1.7725424]),\n",
       " array([-0.5925588]),\n",
       " array([-4.08825964]),\n",
       " array([1.85428707]),\n",
       " array([1.32717291]),\n",
       " array([-3.30970466]),\n",
       " array([0.25335129]),\n",
       " array([-3.31944628]),\n",
       " array([-0.39551127]),\n",
       " array([-3.69306125]),\n",
       " array([-2.55038573]),\n",
       " array([-1.51372552]),\n",
       " array([-1.64245936]),\n",
       " array([1.3765617]),\n",
       " array([1.72437563]),\n",
       " array([-3.65472198]),\n",
       " array([1.94501908]),\n",
       " array([-2.49715128]),\n",
       " array([-1.3102126]),\n",
       " array([-0.66855786]),\n",
       " array([-1.57685044]),\n",
       " array([2.06396361]),\n",
       " array([1.81797948]),\n",
       " array([-2.48511624]),\n",
       " array([1.9228321]),\n",
       " array([-1.53075725]),\n",
       " array([-4.23999067]),\n",
       " array([1.48401048]),\n",
       " array([-0.47340485]),\n",
       " array([-0.85300664]),\n",
       " array([0.83055908]),\n",
       " array([-1.33635786]),\n",
       " array([-4.07603971]),\n",
       " array([-0.88981977]),\n",
       " array([-1.31558247]),\n",
       " array([1.62940244]),\n",
       " array([2.14536963]),\n",
       " array([-3.13817092]),\n",
       " array([-2.38026752]),\n",
       " array([-4.24634275]),\n",
       " array([-3.18193496]),\n",
       " array([2.05099174]),\n",
       " array([-2.46023846]),\n",
       " array([1.76321702]),\n",
       " array([-0.15382004]),\n",
       " array([2.78243329]),\n",
       " array([-2.42175751]),\n",
       " array([-3.36792371]),\n",
       " array([-1.53294646]),\n",
       " array([-0.99479283]),\n",
       " array([-0.72995666]),\n",
       " array([-0.06420024]),\n",
       " array([-2.36540065]),\n",
       " array([2.43848822]),\n",
       " array([-3.6272068]),\n",
       " array([-2.03882606]),\n",
       " array([-3.24914541]),\n",
       " array([-3.38850678]),\n",
       " array([1.32492262]),\n",
       " array([-2.90668065]),\n",
       " array([-2.39818965]),\n",
       " array([1.7410301]),\n",
       " array([-1.08607864]),\n",
       " array([-3.70839674]),\n",
       " array([0.53073353]),\n",
       " array([3.78411663]),\n",
       " array([-1.8195121]),\n",
       " array([1.67056275]),\n",
       " array([-0.70784489]),\n",
       " array([-3.5852617]),\n",
       " array([2.02075168]),\n",
       " array([-2.56000182]),\n",
       " array([-2.55331014]),\n",
       " array([-3.58816737]),\n",
       " array([-2.34161856]),\n",
       " array([-3.00237727]),\n",
       " array([-2.75013022]),\n",
       " array([-3.89668621]),\n",
       " array([-2.13744013]),\n",
       " array([-2.05527578]),\n",
       " array([-3.59532518]),\n",
       " array([-0.1148598]),\n",
       " array([1.82628716]),\n",
       " array([-2.00293838]),\n",
       " array([-3.49374054]),\n",
       " array([-2.74925039]),\n",
       " array([-3.24501674]),\n",
       " array([-1.26769211]),\n",
       " array([-3.42293331]),\n",
       " array([-2.33180403]),\n",
       " array([2.16510325]),\n",
       " array([1.91365052]),\n",
       " array([-0.20406701]),\n",
       " array([0.65656691]),\n",
       " array([-0.38741203]),\n",
       " array([-1.49795553]),\n",
       " array([-2.15544768]),\n",
       " array([-1.8400556]),\n",
       " array([-0.77599115]),\n",
       " array([-0.43004337]),\n",
       " array([-4.2435258]),\n",
       " array([3.12528163]),\n",
       " array([-3.3552392]),\n",
       " array([-2.37538544]),\n",
       " array([2.48344727]),\n",
       " array([-2.64814116]),\n",
       " array([-3.09370026]),\n",
       " array([-2.41403722]),\n",
       " array([0.16212929]),\n",
       " array([1.04165845]),\n",
       " array([1.45920942]),\n",
       " array([-1.84574766]),\n",
       " array([0.76498807]),\n",
       " array([-1.75427065]),\n",
       " array([1.0970998]),\n",
       " array([0.85399497]),\n",
       " array([0.84367957]),\n",
       " array([-2.81642915]),\n",
       " array([-3.16902852]),\n",
       " array([-4.00866232]),\n",
       " array([0.49181626]),\n",
       " array([-1.94637507]),\n",
       " array([-2.28926788]),\n",
       " array([-1.49767251]),\n",
       " array([-4.35160572]),\n",
       " array([-1.71007872]),\n",
       " array([-2.61246613]),\n",
       " array([-2.43181253]),\n",
       " array([-0.17916663]),\n",
       " array([-3.43073238]),\n",
       " array([0.54285252]),\n",
       " array([-2.32556831]),\n",
       " array([-3.71036658]),\n",
       " array([-2.87069643]),\n",
       " array([-2.33721848]),\n",
       " array([-3.48668815]),\n",
       " array([-2.23584442]),\n",
       " array([1.1412223]),\n",
       " array([-1.29841906]),\n",
       " array([0.40364731]),\n",
       " array([-2.93638153]),\n",
       " array([-3.28723096]),\n",
       " array([-3.80717185]),\n",
       " array([-2.80305425]),\n",
       " array([1.69830594]),\n",
       " array([1.78844463]),\n",
       " array([-2.60897139]),\n",
       " array([-3.02667503]),\n",
       " array([-0.65834136]),\n",
       " array([-2.96101859]),\n",
       " array([2.6372877]),\n",
       " array([-1.79546029]),\n",
       " array([-3.02767731]),\n",
       " array([2.80551604]),\n",
       " array([-1.28541034]),\n",
       " array([2.97218805]),\n",
       " array([-0.48666039]),\n",
       " array([-1.5039933]),\n",
       " array([-3.21770693]),\n",
       " array([-1.66801378]),\n",
       " array([-3.57040697]),\n",
       " array([-2.83627928]),\n",
       " array([0.320989]),\n",
       " array([0.99139662]),\n",
       " array([-2.65933954]),\n",
       " array([0.54109066]),\n",
       " array([-3.21278639]),\n",
       " array([-1.98982963]),\n",
       " array([-4.29780656]),\n",
       " array([-4.2827176]),\n",
       " array([0.075273]),\n",
       " array([-0.91122579]),\n",
       " array([0.03668635])]"
      ]
     },
     "execution_count": 26,
     "metadata": {},
     "output_type": "execute_result"
    }
   ],
   "source": [
    "F_cv = RBF_KERNEL_DECISION_FUNCTION(X_test)\n",
    "F_cv"
   ]
  },
  {
   "cell_type": "code",
   "execution_count": 27,
   "metadata": {},
   "outputs": [
    {
     "data": {
      "text/plain": [
       "1000"
      ]
     },
     "execution_count": 27,
     "metadata": {},
     "output_type": "execute_result"
    }
   ],
   "source": [
    "len(F_cv)"
   ]
  },
  {
   "cell_type": "code",
   "execution_count": 17,
   "metadata": {
    "colab": {},
    "colab_type": "code",
    "id": "h43kDT3M41u5"
   },
   "outputs": [],
   "source": [
    "# you can write your code here"
   ]
  },
  {
   "cell_type": "markdown",
   "metadata": {
    "colab_type": "text",
    "id": "c0bKCboN4Zxu"
   },
   "source": [
    "<h2><font color='Geen'> 9F: Implementing Platt Scaling to find P(Y==1|X)</font></h2>"
   ]
  },
  {
   "cell_type": "markdown",
   "metadata": {
    "colab_type": "text",
    "id": "nMn7OEN94Zxw"
   },
   "source": [
    "Check this <a href='https://drive.google.com/open?id=133odBinMOIVb_rh_GQxxsyMRyW-Zts7a'>PDF</a>\n",
    "<img src='https://i.imgur.com/CAMnVnh.png'>\n"
   ]
  },
  {
   "cell_type": "markdown",
   "metadata": {
    "colab_type": "text",
    "id": "e0n5EFkx4Zxz"
   },
   "source": [
    "## TASK F"
   ]
  },
  {
   "cell_type": "markdown",
   "metadata": {
    "colab_type": "text",
    "id": "t0HOqVJq4Zx1"
   },
   "source": [
    "\n",
    "> 4. Apply SGD algorithm with ($f_{cv}$, $y_{cv}$) and find the weight $W$ intercept $b$ ```Note: here our data is of one dimensional so we will have a one dimensional weight vector i.e W.shape (1,)``` \n",
    "\n",
    "> Note1: Don't forget to change the values of $y_{cv}$ as mentioned in the above image. you will calculate y+, y- based on data points in train data\n",
    "\n",
    "> Note2: the Sklearn's SGD algorithm doesn't support the real valued outputs, you need to use the code that was done in the `'Logistic Regression with SGD and L2'` Assignment after modifying loss function, and use same parameters that used in that assignment.\n",
    "<img src='https://i.imgur.com/zKYE9Oc.png'>\n",
    "if Y[i] is 1, it will be replaced with y+ value else it will replaced with y- value\n",
    "\n"
   ]
  },
  {
   "cell_type": "code",
   "execution_count": 29,
   "metadata": {},
   "outputs": [
    {
     "data": {
      "text/plain": [
       "(286, 714)"
      ]
     },
     "execution_count": 29,
     "metadata": {},
     "output_type": "execute_result"
    }
   ],
   "source": [
    "N_train_plus  = len(y_test[y_test==1])\n",
    "N_train_minus = len(y_test[y_test==0])\n",
    "N_train_plus, N_train_minus"
   ]
  },
  {
   "cell_type": "code",
   "execution_count": 30,
   "metadata": {},
   "outputs": [
    {
     "data": {
      "text/plain": [
       "(0.9965277777777778, 0.0013966480446927375)"
      ]
     },
     "execution_count": 30,
     "metadata": {},
     "output_type": "execute_result"
    }
   ],
   "source": [
    "y_train_plus  = (N_train_plus +1)/(N_train_plus+2)\n",
    "y_train_minus = (1)/(N_train_minus+2)\n",
    "y_train_plus, y_train_minus"
   ]
  },
  {
   "cell_type": "code",
   "execution_count": 31,
   "metadata": {},
   "outputs": [
    {
     "data": {
      "text/plain": [
       "array([ 0.82794354,  0.15394785,  0.06575327,  0.08984453, -0.07298141])"
      ]
     },
     "execution_count": 31,
     "metadata": {},
     "output_type": "execute_result"
    }
   ],
   "source": [
    "X_test[0]"
   ]
  },
  {
   "cell_type": "code",
   "execution_count": 32,
   "metadata": {},
   "outputs": [],
   "source": [
    "''' sigmod function '''\n",
    "def sigmoid(w,X,b):\n",
    "#     print(w.shape, X.shape)\n",
    "    z = np.dot(X, w)+b\n",
    "    return 1/(1+np.exp(-z))"
   ]
  },
  {
   "cell_type": "code",
   "execution_count": 38,
   "metadata": {},
   "outputs": [],
   "source": [
    "def log_loss(W, b, X, Y):\n",
    "    N = len(X)\n",
    "    sum_log = 0\n",
    "    for indx in range(N):\n",
    "        ''' Applying the formula '''\n",
    "        if Y[indx]:\n",
    "            y_value = y_train_plus\n",
    "        else:\n",
    "            y_value = y_train_minus\n",
    "        sigmoid_value = sigmoid(W.T,X[indx],b)\n",
    "        sum_log += (y_value*np.log(sigmoid_value)) + ((1-y_value)*np.log(1-sigmoid_value))\n",
    "#         sum_log += ( ( item[0]*math.log(item[1],10) ) + ((1.0-item[0])*math.log(1.0-item[1],10)) )\n",
    "    return (-1/N)*(sum_log)"
   ]
  },
  {
   "cell_type": "code",
   "execution_count": 42,
   "metadata": {},
   "outputs": [],
   "source": [
    "total_records = len(F_cv)\n",
    "w = np.zeros_like(total_records)\n",
    "b = 0\n",
    "eta0 = 0.0001\n",
    "alpha = 0.0001\n",
    "epochs = 50\n",
    "F_cv_loss = []\n",
    "import random\n",
    "for i in range(epochs):\n",
    "    for each_point in range(total_records):\n",
    "        ''' Getting random index '''\n",
    "        get_random_input =random.randrange(0, total_records)\n",
    "        ''' calculating the error '''\n",
    "        error = y_test[get_random_input] - sigmoid(w.T,F_cv[get_random_input],b)\n",
    "        ''' Update weight vector '''\n",
    "        w = (1- ((alpha*eta0)/total_records))*w + (alpha*F_cv[get_random_input]*\n",
    "                                                   (error))\n",
    "        ''' update intercept'''\n",
    "        b = (b+ alpha*(y_test[get_random_input] - sigmoid(w.T,F_cv[get_random_input],b)))\n",
    "    #print(w,b)\n",
    "    F_cv_loss.append(log_loss(w, b,F_cv , y_test))\n"
   ]
  },
  {
   "cell_type": "code",
   "execution_count": 45,
   "metadata": {},
   "outputs": [
    {
     "data": {
      "image/png": "[encoded data removed]",
      "text/plain": [
       "<Figure size 432x288 with 1 Axes>"
      ]
     },
     "metadata": {
      "needs_background": "light"
     },
     "output_type": "display_data"
    }
   ],
   "source": [
    "import matplotlib.pyplot as plt\n",
    "plt.plot(F_cv_loss)\n",
    "plt.show()"
   ]
  },
  {
   "cell_type": "code",
   "execution_count": 48,
   "metadata": {},
   "outputs": [
    {
     "data": {
      "text/plain": [
       "(array([1.17612304]), -0.1595876135542454)"
      ]
     },
     "execution_count": 48,
     "metadata": {},
     "output_type": "execute_result"
    }
   ],
   "source": [
    "w, b"
   ]
  },
  {
   "cell_type": "markdown",
   "metadata": {},
   "source": [
    "> 5. For a given data point from $X_{test}$, $P(Y=1|X) = \\frac{1}{1+exp(-(W*f_{test}+ b))}$ where ` `$f_{test}$ ```= decision_function(```$X_{test}$```)```, W and b will be learned as metioned in the above step"
   ]
  },
  {
   "cell_type": "code",
   "execution_count": 58,
   "metadata": {},
   "outputs": [
    {
     "data": {
      "text/plain": [
       "array([-3.38680868])"
      ]
     },
     "execution_count": 58,
     "metadata": {},
     "output_type": "execute_result"
    }
   ],
   "source": [
    "F_cv[10]"
   ]
  },
  {
   "cell_type": "code",
   "execution_count": 59,
   "metadata": {},
   "outputs": [],
   "source": [
    "ground_truth = y_test[10]"
   ]
  },
  {
   "cell_type": "code",
   "execution_count": 60,
   "metadata": {},
   "outputs": [],
   "source": [
    "def get_test_point(get_x_test):\n",
    "    return sigmoid(w,get_x_test,b)\n",
    "propability_value = get_test_point(F_cv[10])"
   ]
  },
  {
   "cell_type": "code",
   "execution_count": 61,
   "metadata": {},
   "outputs": [
    {
     "data": {
      "text/plain": [
       "(0, 0.01562874401912089)"
      ]
     },
     "execution_count": 61,
     "metadata": {},
     "output_type": "execute_result"
    }
   ],
   "source": [
    "ground_truth, propability_value"
   ]
  },
  {
   "cell_type": "markdown",
   "metadata": {
    "colab_type": "text",
    "id": "oTY7z2bd4Zx2"
   },
   "source": [
    "__Note: in the above algorithm, the steps 2, 4 might need hyper parameter tuning, To reduce the complexity of the assignment we are including the hyerparameter tuning part, but intrested students can try that__"
   ]
  },
  {
   "cell_type": "markdown",
   "metadata": {
    "colab_type": "text",
    "id": "CM3odN1Z4Zx3"
   },
   "source": [
    "\n",
    "If any one wants to try other calibration algorithm istonic regression also please check these tutorials\n",
    "\n",
    "1. http://fa.bianp.net/blog/tag/scikit-learn.html#fn:1\n",
    "\n",
    "2. https://drive.google.com/open?id=1MzmA7QaP58RDzocB0RBmRiWfl7Co_VJ7\n",
    "\n",
    "3. https://drive.google.com/open?id=133odBinMOIVb_rh_GQxxsyMRyW-Zts7a\n",
    "\n",
    "4. https://stat.fandom.com/wiki/Isotonic_regression#Pool_Adjacent_Violators_Algorithm\n"
   ]
  }
 ],
 "metadata": {
  "colab": {
   "name": "8E&F_LR_SVM.ipynb",
   "provenance": []
  },
  "kernelspec": {
   "display_name": "Python 3",
   "language": "python",
   "name": "python3"
  },
  "language_info": {
   "codemirror_mode": {
    "name": "ipython",
    "version": 3
   },
   "file_extension": ".py",
   "mimetype": "text/x-python",
   "name": "python",
   "nbconvert_exporter": "python",
   "pygments_lexer": "ipython3",
   "version": "3.6.8"
  }
 },
 "nbformat": 4,
 "nbformat_minor": 1
}
