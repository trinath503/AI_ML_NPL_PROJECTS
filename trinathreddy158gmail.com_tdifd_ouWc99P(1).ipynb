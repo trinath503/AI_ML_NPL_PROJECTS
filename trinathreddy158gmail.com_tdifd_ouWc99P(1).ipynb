{
 "cells": [
  {
   "cell_type": "markdown",
   "metadata": {
    "colab_type": "text",
    "id": "h9464I-uxLiw"
   },
   "source": [
    "# Assignment"
   ]
  },
  {
   "cell_type": "markdown",
   "metadata": {
    "colab_type": "text",
    "id": "IvLvmewlxLix"
   },
   "source": [
    "<font face='georgia'>\n",
    "    \n",
    "   <h4><strong>What does tf-idf mean?</strong></h4>\n",
    "\n",
    "   <p>    \n",
    "Tf-idf stands for <em>term frequency-inverse document frequency</em>, and the tf-idf weight is a weight often used in information retrieval and text mining. This weight is a statistical measure used to evaluate how important a word is to a document in a collection or corpus. The importance increases proportionally to the number of times a word appears in the document but is offset by the frequency of the word in the corpus. Variations of the tf-idf weighting scheme are often used by search engines as a central tool in scoring and ranking a document's relevance given a user query.\n",
    "</p>\n",
    "    \n",
    "   <p>\n",
    "One of the simplest ranking functions is computed by summing the tf-idf for each query term; many more sophisticated ranking functions are variants of this simple model.\n",
    "</p>\n",
    "    \n",
    "   <p>\n",
    "Tf-idf can be successfully used for stop-words filtering in various subject fields including text summarization and classification.\n",
    "</p>\n",
    "    \n",
    "</font>"
   ]
  },
  {
   "cell_type": "markdown",
   "metadata": {
    "colab_type": "text",
    "id": "4XLaGFUMxLiy"
   },
   "source": [
    "<font face='georgia'>\n",
    "    <h4><strong>How to Compute:</strong></h4>\n",
    "\n",
    "Typically, the tf-idf weight is composed by two terms: the first computes the normalized Term Frequency (TF), aka. the number of times a word appears in a document, divided by the total number of words in that document; the second term is the Inverse Document Frequency (IDF), computed as the logarithm of the number of the documents in the corpus divided by the number of documents where the specific term appears.\n",
    "\n",
    " <ul>\n",
    "    <li>\n",
    "<strong>TF:</strong> Term Frequency, which measures how frequently a term occurs in a document. Since every document is different in length, it is possible that a term would appear much more times in long documents than shorter ones. Thus, the term frequency is often divided by the document length (aka. the total number of terms in the document) as a way of normalization: <br>\n",
    "\n",
    "$TF(t) = \\frac{\\text{Number of times term t appears in a document}}{\\text{Total number of terms in the document}}.$\n",
    "</li>\n",
    "<li>\n",
    "<strong>IDF:</strong> Inverse Document Frequency, which measures how important a term is. While computing TF, all terms are considered equally important. However it is known that certain terms, such as \"is\", \"of\", and \"that\", may appear a lot of times but have little importance. Thus we need to weigh down the frequent terms while scale up the rare ones, by computing the following: <br>\n",
    "\n",
    "$IDF(t) = \\log_{e}\\frac{\\text{Total  number of documents}} {\\text{Number of documents with term t in it}}.$\n",
    "for numerical stabiltiy we will be changing this formula little bit\n",
    "$IDF(t) = \\log_{e}\\frac{\\text{Total  number of documents}} {\\text{Number of documents with term t in it}+1}.$\n",
    "</li>\n",
    "</ul>\n",
    "\n",
    "<br>\n",
    "<h4><strong>Example</strong></h4>\n",
    "<p>\n",
    "\n",
    "Consider a document containing 100 words wherein the word cat appears 3 times. The term frequency (i.e., tf) for cat is then (3 / 100) = 0.03. Now, assume we have 10 million documents and the word cat appears in one thousand of these. Then, the inverse document frequency (i.e., idf) is calculated as log(10,000,000 / 1,000) = 4. Thus, the Tf-idf weight is the product of these quantities: 0.03 * 4 = 0.12.\n",
    "</p>\n",
    "</font>"
   ]
  },
  {
   "cell_type": "markdown",
   "metadata": {
    "colab_type": "text",
    "id": "dg2ooa4DxLiz"
   },
   "source": [
    "## Task-1"
   ]
  },
  {
   "cell_type": "markdown",
   "metadata": {
    "colab_type": "text",
    "id": "TAcTjhO8xLiz"
   },
   "source": [
    "<font face='georgia'>\n",
    "    <h4><strong>1. Build a TFIDF Vectorizer & compare its results with Sklearn:</strong></h4>\n",
    "\n",
    "<ul>\n",
    "    <li> As a part of this task you will be implementing TFIDF vectorizer on a collection of text documents.</li>\n",
    "    <br>\n",
    "    <li> You should compare the results of your own implementation of TFIDF vectorizer with that of sklearns implemenation TFIDF vectorizer.</li>\n",
    "    <br>\n",
    "    <li> Sklearn does few more tweaks in the implementation of its version of TFIDF vectorizer, so to replicate the exact results you would need to add following things to your custom implementation of tfidf vectorizer:\n",
    "       <ol>\n",
    "        <li> Sklearn has its vocabulary generated from idf sroted in alphabetical order</li>\n",
    "        <li> Sklearn formula of idf is different from the standard textbook formula. Here the constant <strong>\"1\"</strong> is added to the numerator and denominator of the idf as if an extra document was seen containing every term in the collection exactly once, which prevents zero divisions.\n",
    "            \n",
    " $IDF(t) = 1+\\log_{e}\\frac{1\\text{ }+\\text{ Total  number of documents in collection}} {1+\\text{Number of documents with term t in it}}.$\n",
    "        </li>\n",
    "        <li> Sklearn applies L2-normalization on its output matrix.</li>\n",
    "        <li> The final output of sklearn tfidf vectorizer is a sparse matrix.</li>\n",
    "    </ol>\n",
    "    <br>\n",
    "    <li>Steps to approach this task:\n",
    "    <ol>\n",
    "        <li> You would have to write both fit and transform methods for your custom implementation of tfidf vectorizer.</li>\n",
    "        <li> Print out the alphabetically sorted voacb after you fit your data and check if its the same as that of the feature names from sklearn tfidf vectorizer. </li>\n",
    "        <li> Print out the idf values from your implementation and check if its the same as that of sklearns tfidf vectorizer idf values. </li>\n",
    "        <li> Once you get your voacb and idf values to be same as that of sklearns implementation of tfidf vectorizer, proceed to the below steps. </li>\n",
    "        <li> Make sure the output of your implementation is a sparse matrix. Before generating the final output, you need to normalize your sparse matrix using L2 normalization. You can refer to this link https://scikit-learn.org/stable/modules/generated/sklearn.preprocessing.normalize.html </li>\n",
    "        <li> After completing the above steps, print the output of your custom implementation and compare it with sklearns implementation of tfidf vectorizer.</li>\n",
    "        <li> To check the output of a single document in your collection of documents,  you can convert the sparse matrix related only to that document into dense matrix and print it.</li>\n",
    "        </ol>\n",
    "    </li>\n",
    "    <br>\n",
    "   </ul>\n",
    "\n",
    "  <p> <font color=\"#e60000\"><strong>Note-1: </strong></font> All the necessary outputs of sklearns tfidf vectorizer have been provided as reference in this notebook, you can compare your outputs as mentioned in the above steps, with these outputs.<br>\n",
    "   <font color=\"#e60000\"><strong>Note-2: </strong></font> The output of your custom implementation and that of sklearns implementation would match only with the collection of document strings provided to you as reference in this notebook. It would not match for strings that contain capital letters or punctuations, etc, because sklearn version of tfidf vectorizer deals with such strings in a different way. To know further details about how sklearn tfidf vectorizer works with such string, you can always refer to its official documentation.<br>\n",
    "   <font color=\"#e60000\"><strong>Note-3: </strong></font> During this task, it would be helpful for you to debug the code you write with print statements wherever necessary. But when you are finally submitting the assignment, make sure your code is readable and try not to print things which are not part of this task.\n",
    "    </p>"
   ]
  },
  {
   "cell_type": "markdown",
   "metadata": {
    "colab_type": "text",
    "id": "OnV82tg1xLi0"
   },
   "source": [
    "### Corpus"
   ]
  },
  {
   "cell_type": "code",
   "execution_count": 1,
   "metadata": {
    "colab": {},
    "colab_type": "code",
    "id": "bUsYm9wjxLi1"
   },
   "outputs": [
    {
     "name": "stderr",
     "output_type": "stream",
     "text": [
      "100%|██████████| 4/4 [00:00<00:00, 653.90it/s]"
     ]
    },
    {
     "name": "stdout",
     "output_type": "stream",
     "text": [
      "dict_keys(['and', 'document', 'first', 'is', 'one', 'second', 'the', 'third', 'this'])\n"
     ]
    },
    {
     "name": "stderr",
     "output_type": "stream",
     "text": [
      "\n"
     ]
    }
   ],
   "source": [
    "''' Importing the required packages'''\n",
    "import warnings\n",
    "warnings.filterwarnings(\"ignore\")\n",
    "import pandas as pd\n",
    "from tqdm import tqdm\n",
    "import os\n",
    "import numpy as np\n",
    "from collections import Counter\n",
    "from scipy.sparse import csr_matrix\n",
    "import math\n",
    "import operator\n",
    "from sklearn.preprocessing import normalize\n",
    "import numpy as np\n",
    "\n",
    "\n",
    "''' created own custom functions for calculation of idf values'''\n",
    "def cal_idf(corpus_matrix,get_unique_words):\n",
    "    idf_vector = []\n",
    "    for ic, word in  enumerate(get_unique_words):\n",
    "        idf = 1+(np.log((1+len(corpus_matrix))/(1+np.count_nonzero(corpus_matrix[:,ic]))))\n",
    "        idf_vector.append(idf)\n",
    "    return idf_vector\n",
    "\n",
    "''' created own custom functions for calculation of tfidf values'''\n",
    "def cal_tfidf(matrix,get_idf_vector):\n",
    "    tfidf_mtx = []\n",
    "    idfVector = get_idf_vector\n",
    "    for idx, row in enumerate(matrix):\n",
    "        each_tfidf = []\n",
    "        for ic,item in enumerate(row):\n",
    "            tf  = item/len(idfVector)\n",
    "            idf = idfVector[ic]\n",
    "            each_tfidf.append(tf*idf)\n",
    "        tfidf_mtx.append(each_tfidf)\n",
    "    return tfidf_mtx\n",
    "\n",
    "\n",
    "''' Fit function is referenced from AAIC refrence notes which returns vocab '''\n",
    "def fit(dataset):\n",
    "    ''' For storing the unique words'''\n",
    "    unique_words = set() \n",
    "    ''' checking the dataset instance type'''\n",
    "    if isinstance(dataset, (list,)):\n",
    "        ''' Looping through each row in dataset'''\n",
    "        for row in dataset: \n",
    "            '''getting the words in sentence and ignoring the words which has lenght less than 2'''\n",
    "            for word in row.split(\" \"): \n",
    "                if len(word) < 2:\n",
    "                    continue\n",
    "                unique_words.add(word)\n",
    "        ''' Finally sorting the words and returning it'''\n",
    "        unique_words = sorted(list(unique_words))\n",
    "        ''' Finally mapping the words with respect to its respective index'''\n",
    "        vocab = {j:i for i,j in enumerate(unique_words)}\n",
    "        return vocab\n",
    "    else:\n",
    "        print(\"you need to pass list of sentance\")\n",
    "        \n",
    "\n",
    "''' Transform function is referenced from AAIC refrence notes which returns corpus matrix'''\n",
    "def transform(dataset,vocab):\n",
    "    rows = []\n",
    "    columns = []\n",
    "    values = []\n",
    "    ''' checking the dataset instance type'''\n",
    "    if isinstance(dataset, (list,)):\n",
    "        ''' Looping through each row in dataset'''\n",
    "        for idx, row in enumerate(tqdm(dataset)): \n",
    "            '''Getting word frequency '''\n",
    "            word_freq = dict(Counter(row.split()))\n",
    "            ''' For every unique word in the document'''\n",
    "            for word, freq in word_freq.items():                \n",
    "                if len(word) < 2:\n",
    "                    continue\n",
    "                '''we will check if its there in the vocabulary that we build in fit() function dict.get() \n",
    "                   function will return the values, if the key doesn't exits it will return -1 \n",
    "                '''\n",
    "                col_index = vocab.get(word, -1) # retreving the dimension number of a word\n",
    "                # if the word exists\n",
    "                if col_index !=-1:\n",
    "                    ''' we are storing the index of the document '''\n",
    "                    rows.append(idx)\n",
    "                    ''' we are storing the dimensions of the word '''\n",
    "                    columns.append(col_index)\n",
    "                    # we are storing the frequency of the word\n",
    "                    values.append(freq)\n",
    "        return csr_matrix((values, (rows,columns)), shape=(len(dataset),len(vocab)))\n",
    "    else:\n",
    "        print(\"you need to pass list of strings\")\n",
    "\n",
    "\n",
    "        \n",
    "''' Given corpus '''\n",
    "corpus = [\n",
    "     'this is the first document',\n",
    "     'this document is the second document',\n",
    "     'and this is the third one',\n",
    "     'is this the first document',\n",
    "]     \n",
    "\n",
    "''' Getting the vocab'''\n",
    "vocab = fit(corpus)\n",
    "\n",
    "''' Getting the unique words'''\n",
    "unique_words = vocab.keys()\n",
    "print(unique_words)\n",
    "\n",
    "'''Getting the corpus matrix'''\n",
    "corpus_matrix = transform(corpus, vocab).toarray()\n",
    "# print(corpus_matrix)"
   ]
  },
  {
   "cell_type": "code",
   "execution_count": 2,
   "metadata": {},
   "outputs": [
    {
     "name": "stdout",
     "output_type": "stream",
     "text": [
      "[1.916290731874155, 1.2231435513142097, 1.5108256237659907, 1.0, 1.916290731874155, 1.916290731874155, 1.0, 1.916290731874155, 1.0]\n",
      "[0.         0.46979139 0.58028582 0.38408524 0.         0.\n",
      " 0.38408524 0.         0.38408524]\n"
     ]
    }
   ],
   "source": [
    "''' Finally\n",
    "    1. calculating idf vectop for 9 unique features\n",
    "    2. calculating tfidf values for 9 features \n",
    "    3. Normalising the top values for 9 features\n",
    "    4. Displaying the results \n",
    "'''\n",
    "get_idf_vector = cal_idf(corpus_matrix,unique_words)\n",
    "tfidf_vector     = cal_tfidf(corpus_matrix,get_idf_vector)\n",
    "tfidf_normalized = normalize(np.array(tfidf_vector), norm='l2', copy=False)\n",
    "print(get_idf_vector)\n",
    "print(tfidf_normalized[0])"
   ]
  },
  {
   "cell_type": "code",
   "execution_count": 3,
   "metadata": {},
   "outputs": [
    {
     "name": "stdout",
     "output_type": "stream",
     "text": [
      "[[0.         0.46979139 0.58028582 0.38408524 0.         0.\n",
      "  0.38408524 0.         0.38408524]\n",
      " [0.         0.6876236  0.         0.28108867 0.         0.53864762\n",
      "  0.28108867 0.         0.28108867]\n",
      " [0.51184851 0.         0.         0.26710379 0.51184851 0.\n",
      "  0.26710379 0.51184851 0.26710379]\n",
      " [0.         0.46979139 0.58028582 0.38408524 0.         0.\n",
      "  0.38408524 0.         0.38408524]]\n"
     ]
    }
   ],
   "source": [
    "''' Displaying the hole tdidf normalized matrix'''\n",
    "print(tfidf_normalized)"
   ]
  },
  {
   "cell_type": "code",
   "execution_count": 4,
   "metadata": {},
   "outputs": [],
   "source": [
    "## SkLearn# Collection of string documents\n",
    "\n",
    "corpus = [\n",
    "     'this is the first document',\n",
    "     'this document is the second document',\n",
    "     'and this is the third one',\n",
    "     'is this the first document',\n",
    "]"
   ]
  },
  {
   "cell_type": "markdown",
   "metadata": {
    "colab_type": "text",
    "id": "eLwmFZfKxLi4"
   },
   "source": [
    "### SkLearn Implementation"
   ]
  },
  {
   "cell_type": "code",
   "execution_count": 5,
   "metadata": {
    "colab": {},
    "colab_type": "code",
    "id": "Np4dfQOkxLi4"
   },
   "outputs": [],
   "source": [
    "from sklearn.feature_extraction.text import TfidfVectorizer\n",
    "vectorizer = TfidfVectorizer()\n",
    "vectorizer.fit(corpus)\n",
    "skl_output = vectorizer.transform(corpus)"
   ]
  },
  {
   "cell_type": "code",
   "execution_count": 6,
   "metadata": {
    "colab": {},
    "colab_type": "code",
    "id": "-7Om8YpYxLi6",
    "outputId": "0a3bd0f5-4424-4400-944f-4482a80bd799"
   },
   "outputs": [
    {
     "name": "stdout",
     "output_type": "stream",
     "text": [
      "['and', 'document', 'first', 'is', 'one', 'second', 'the', 'third', 'this']\n"
     ]
    }
   ],
   "source": [
    "# sklearn feature names, they are sorted in alphabetic order by default.\n",
    "\n",
    "print(vectorizer.get_feature_names())"
   ]
  },
  {
   "cell_type": "code",
   "execution_count": 7,
   "metadata": {
    "colab": {},
    "colab_type": "code",
    "id": "dTKplK96xLi-",
    "outputId": "53722fa2-6756-4aa0-f179-37b578bb6890"
   },
   "outputs": [
    {
     "name": "stdout",
     "output_type": "stream",
     "text": [
      "[1.91629073 1.22314355 1.51082562 1.         1.91629073 1.91629073\n",
      " 1.         1.91629073 1.        ]\n"
     ]
    }
   ],
   "source": [
    "# Here we will print the sklearn tfidf vectorizer idf values after applying the fit method\n",
    "# After using the fit function on the corpus the vocab has 9 words in it, and each has its idf value.\n",
    "\n",
    "print(vectorizer.idf_)"
   ]
  },
  {
   "cell_type": "code",
   "execution_count": 8,
   "metadata": {
    "colab": {},
    "colab_type": "code",
    "id": "-CTiWHygxLjA",
    "outputId": "8d5a9cde-2c29-4afe-f7b4-1547e88dba4f"
   },
   "outputs": [
    {
     "data": {
      "text/plain": [
       "(4, 9)"
      ]
     },
     "execution_count": 8,
     "metadata": {},
     "output_type": "execute_result"
    }
   ],
   "source": [
    "# shape of sklearn tfidf vectorizer output after applying transform method.\n",
    "skl_output.shape"
   ]
  },
  {
   "cell_type": "code",
   "execution_count": 9,
   "metadata": {
    "colab": {},
    "colab_type": "code",
    "id": "bDKEpbA-xLjD",
    "outputId": "87dafd65-5313-443f-8c6e-1b05cc8c2543"
   },
   "outputs": [
    {
     "name": "stdout",
     "output_type": "stream",
     "text": [
      "[0.         0.46979139 0.58028582 0.38408524 0.         0.\n",
      " 0.38408524 0.         0.38408524]\n"
     ]
    }
   ],
   "source": [
    "# sklearn tfidf values for first line of the above corpus.\n",
    "# Here the output is a sparse matrix\n",
    "print(skl_output.toarray()[0])"
   ]
  },
  {
   "cell_type": "code",
   "execution_count": 10,
   "metadata": {
    "colab": {},
    "colab_type": "code",
    "id": "3QWo34hexLjF",
    "outputId": "cdc04e08-989f-4bdc-dd7f-f1c82a9f90be"
   },
   "outputs": [
    {
     "name": "stdout",
     "output_type": "stream",
     "text": [
      "[[0.         0.46979139 0.58028582 0.38408524 0.         0.\n",
      "  0.38408524 0.         0.38408524]\n",
      " [0.         0.6876236  0.         0.28108867 0.         0.53864762\n",
      "  0.28108867 0.         0.28108867]\n",
      " [0.51184851 0.         0.         0.26710379 0.51184851 0.\n",
      "  0.26710379 0.51184851 0.26710379]\n",
      " [0.         0.46979139 0.58028582 0.38408524 0.         0.\n",
      "  0.38408524 0.         0.38408524]]\n"
     ]
    }
   ],
   "source": [
    "# sklearn tfidf values for first line of the above corpus.\n",
    "# To understand the output better, here we are converting the sparse output matrix to dense matrix and printing it.\n",
    "# Notice that this output is normalized using L2 normalization. sklearn does this by default.\n",
    "\n",
    "print(skl_output.toarray())"
   ]
  },
  {
   "cell_type": "markdown",
   "metadata": {
    "colab_type": "text",
    "id": "qfIwx5LzxLjI"
   },
   "source": [
    "### Your custom implementation"
   ]
  },
  {
   "cell_type": "markdown",
   "metadata": {
    "colab_type": "text",
    "id": "MMxBmVZExLjK"
   },
   "source": [
    "## Task-2"
   ]
  },
  {
   "cell_type": "markdown",
   "metadata": {
    "colab_type": "text",
    "id": "51j_OtqAxLjL"
   },
   "source": [
    "<font face='georgia'>\n",
    "    <h4><strong>2. Implement max features functionality:</strong></h4>\n",
    "\n",
    "<ul>\n",
    "    <li> As a part of this task you have to modify your fit and transform functions so that your vocab will contain only 50 terms with top idf scores.</li>\n",
    "    <br>\n",
    "    <li>This task is similar to your previous task, just that here your vocabulary is limited to only top 50 features names based on their idf values. Basically your output will have exactly 50 columns and the number of rows will depend on the number of documents you have in your corpus.</li>\n",
    "    <br>\n",
    "    <li>Here you will be give a pickle file, with file name <strong>cleaned_strings</strong>. You would have to load the corpus from this file and use it as input to your tfidf vectorizer.</li>\n",
    "    <br>\n",
    "    <li>Steps to approach this task:\n",
    "    <ol>\n",
    "        <li> You would have to write both fit and transform methods for your custom implementation of tfidf vectorizer, just like in the previous task. Additionally, here you have to limit the number of features generated to 50 as described above.</li>\n",
    "        <li> Now sort your vocab based in descending order of idf values and print out the words in the sorted voacb after you fit your data. Here you should be getting only 50 terms in your vocab. And make sure to print idf values for each term in your vocab. </li>\n",
    "        <li> Make sure the output of your implementation is a sparse matrix. Before generating the final output, you need to normalize your sparse matrix using L2 normalization. You can refer to this link https://scikit-learn.org/stable/modules/generated/sklearn.preprocessing.normalize.html </li>\n",
    "        <li> Now check the output of a single document in your collection of documents,  you can convert the sparse matrix related only to that document into dense matrix and print it. And this dense matrix should contain 1 row and 50 columns. </li>\n",
    "        </ol>\n",
    "    </li>\n",
    "    <br>\n",
    "   </ul>"
   ]
  },
  {
   "cell_type": "code",
   "execution_count": 11,
   "metadata": {
    "colab": {},
    "colab_type": "code",
    "id": "NHxPLlwNxLjL",
    "outputId": "9abd8e08-0e24-4975-9a13-4d3636d60323"
   },
   "outputs": [
    {
     "name": "stdout",
     "output_type": "stream",
     "text": [
      "Number of documents in cleaned_strings_corpus =  746\n"
     ]
    }
   ],
   "source": [
    "''' Reading the corpus from the file'''\n",
    "import pickle\n",
    "with open('cleaned_strings', 'rb') as f:\n",
    "    cleaned_strings_corpus = pickle.load(f)\n",
    "    \n",
    "# printing the length of the corpus loaded\n",
    "print(\"Number of documents in cleaned_strings_corpus = \",len(cleaned_strings_corpus))"
   ]
  },
  {
   "cell_type": "code",
   "execution_count": 12,
   "metadata": {},
   "outputs": [
    {
     "name": "stderr",
     "output_type": "stream",
     "text": [
      "100%|██████████| 746/746 [00:00<00:00, 15256.55it/s]\n"
     ]
    },
    {
     "data": {
      "text/plain": [
       "6.922918    1855\n",
       "6.517453     459\n",
       "6.229771     197\n",
       "6.006627     104\n",
       "5.824306      63\n",
       "5.670155      38\n",
       "5.536624      26\n",
       "5.418841      24\n",
       "5.218170      17\n",
       "5.313480      17\n",
       "5.051116      12\n",
       "5.131159      12\n",
       "4.671626       9\n",
       "4.977008       8\n",
       "4.571543       5\n",
       "4.480571       4\n",
       "4.725693       4\n",
       "4.782852       4\n",
       "4.908015       4\n",
       "4.357969       2\n",
       "4.843476       2\n",
       "4.032546       2\n",
       "4.397189       2\n",
       "4.089705       1\n",
       "4.119558       1\n",
       "4.005147       1\n",
       "3.978479       1\n",
       "2.718225       1\n",
       "3.787424       1\n",
       "4.525023       1\n",
       "3.952504       1\n",
       "4.283861       1\n",
       "2.771878       1\n",
       "3.627081       1\n",
       "2.897566       1\n",
       "4.150329       1\n",
       "4.182078       1\n",
       "3.573014       1\n",
       "4.620333       1\n",
       "dtype: int64"
      ]
     },
     "execution_count": 12,
     "metadata": {},
     "output_type": "execute_result"
    }
   ],
   "source": [
    "''' Getting the cleaned vocab from cleaned strings and sorting it '''\n",
    "cleaned_vocab = fit(cleaned_strings_corpus)\n",
    "cleaned_unique_words = sorted(list(cleaned_vocab.keys()))\n",
    "''' Doing the transformation for the unique qords'''\n",
    "cleaned_strings_corpus_matrix = transform(cleaned_strings_corpus, cleaned_vocab).toarray()\n",
    "cleaned_strings_idf_vector = cal_idf(cleaned_strings_corpus_matrix,cleaned_unique_words)\n",
    "s = pd.Series(cleaned_strings_idf_vector)\n",
    "\n",
    "''' top values has 1855 times, so idf values for top 50 words will be same '''\n",
    "s.value_counts()\n",
    "\n"
   ]
  },
  {
   "cell_type": "code",
   "execution_count": 13,
   "metadata": {},
   "outputs": [
    {
     "name": "stderr",
     "output_type": "stream",
     "text": [
      "100%|██████████| 746/746 [00:00<00:00, 67696.90it/s]"
     ]
    },
    {
     "name": "stdout",
     "output_type": "stream",
     "text": [
      "[2885, 1152, 1162, 1158, 1156, 1155, 1154, 1153, 1151, 1165, 1148, 1146, 1145, 1142, 1141, 1140, 1163, 1166, 1089, 1178, 1185, 1183, 1182, 1181, 1180, 1179, 1177, 1167, 1176, 1173, 1172, 1171, 1170, 1168, 1138, 1136, 1134, 1102, 1108, 1107, 1106, 1105, 1104, 1103, 1100, 1133, 1099, 1098, 1097, 1095]\n",
      "['zombiez', 'havilland', 'hearts', 'heads', 'hbo', 'hayworth', 'hayao', 'hay', 'hatred', 'heche', 'harris', 'happy', 'happiness', 'hanks', 'hankies', 'hang', 'heartwarming', 'heels', 'gone', 'hero', 'higher', 'hide', 'hes', 'heroism', 'heroine', 'heroes', 'hernandez', 'heist', 'hendrikson', 'helping', 'help', 'helms', 'hellish', 'helen', 'handles', 'handle', 'ham', 'grade', 'grates', 'grasp', 'graphics', 'granted', 'grainy', 'gradually', 'government', 'halfway', 'gotten', 'gotta', 'goth', 'gosh']\n",
      "\n",
      " Printing top 50 idf values & words\n",
      "zombiez 6.922918004572872\n",
      "havilland 6.922918004572872\n",
      "hearts 6.922918004572872\n",
      "heads 6.922918004572872\n",
      "hbo 6.922918004572872\n",
      "hayworth 6.922918004572872\n",
      "hayao 6.922918004572872\n",
      "hay 6.922918004572872\n",
      "hatred 6.922918004572872\n",
      "heche 6.922918004572872\n",
      "harris 6.922918004572872\n",
      "happy 6.922918004572872\n",
      "happiness 6.922918004572872\n",
      "hanks 6.922918004572872\n",
      "hankies 6.922918004572872\n",
      "hang 6.922918004572872\n",
      "heartwarming 6.922918004572872\n",
      "heels 6.922918004572872\n",
      "gone 6.922918004572872\n",
      "hero 6.922918004572872\n",
      "higher 6.922918004572872\n",
      "hide 6.922918004572872\n",
      "hes 6.922918004572872\n",
      "heroism 6.922918004572872\n",
      "heroine 6.922918004572872\n",
      "heroes 6.922918004572872\n",
      "hernandez 6.922918004572872\n",
      "heist 6.922918004572872\n",
      "hendrikson 6.922918004572872\n",
      "helping 6.922918004572872\n",
      "help 6.922918004572872\n",
      "helms 6.922918004572872\n",
      "hellish 6.922918004572872\n",
      "helen 6.922918004572872\n",
      "handles 6.922918004572872\n",
      "handle 6.922918004572872\n",
      "ham 6.922918004572872\n",
      "grade 6.922918004572872\n",
      "grates 6.922918004572872\n",
      "grasp 6.922918004572872\n",
      "graphics 6.922918004572872\n",
      "granted 6.922918004572872\n",
      "grainy 6.922918004572872\n",
      "gradually 6.922918004572872\n",
      "government 6.922918004572872\n",
      "halfway 6.922918004572872\n",
      "gotten 6.922918004572872\n",
      "gotta 6.922918004572872\n",
      "goth 6.922918004572872\n",
      "gosh 6.922918004572872\n",
      "[0. 0. 0. 0. 0. 0. 0. 0. 0. 0. 0. 0. 0. 0. 0. 0. 0. 0. 0. 0. 0. 0. 0. 0.\n",
      " 0. 0. 0. 0. 0. 0. 0. 0. 0. 0. 0. 0. 0. 0. 0. 0. 0. 0. 0. 0. 0. 0. 0. 0.\n",
      " 0. 0.]\n"
     ]
    },
    {
     "name": "stderr",
     "output_type": "stream",
     "text": [
      "\n"
     ]
    },
    {
     "data": {
      "text/plain": [
       "2885"
      ]
     },
     "execution_count": 13,
     "metadata": {},
     "output_type": "execute_result"
    }
   ],
   "source": [
    "''' calculating the top 50 idf values '''\n",
    "\n",
    "top_fivty_idf_index = np.argsort(np.array(cleaned_strings_idf_vector))[-50:][::-1].tolist()\n",
    "print(top_fivty_idf_index)\n",
    "''' Getting the top 50 feature words'''\n",
    "cleaned_fifty_unique_words = [cleaned_unique_words[i] for i in top_fivty_idf_index]\n",
    "print(cleaned_fifty_unique_words)\n",
    "\n",
    "\n",
    "'''  Printing top idf values for words'''\n",
    "print(\"\\n Printing top 50 idf values & words\")\n",
    "for indx,top_idf in enumerate(top_fivty_idf_index):\n",
    "    print(cleaned_fifty_unique_words[indx],cleaned_strings_idf_vector[top_idf])\n",
    "\n",
    "''' Finally\n",
    "    1. Doing tranform on top 50 features\n",
    "    2. calculating tfidf values for top 50 features \n",
    "    3. Normalising the top 50 features\n",
    "    4. Displaying the first record which has shape of (1,50) \n",
    "'''\n",
    "get_fivty_vocab = {}\n",
    "for indx, item in enumerate(cleaned_fifty_unique_words):\n",
    "    get_fivty_vocab[item]= indx\n",
    "top_fivty_corpus_matrix    = transform(cleaned_strings_corpus, get_fivty_vocab).toarray()\n",
    "top_fivty_tfidf_vector     = cal_tfidf(top_fivty_corpus_matrix,top_fivty_idf_index)\n",
    "top_fivty_tfidf_normalized = normalize(np.array(top_fivty_tfidf_vector), norm='l2', copy=False)\n",
    "print(top_fivty_tfidf_normalized[0])\n",
    "top_fivty_idf_index[0]"
   ]
  },
  {
   "cell_type": "code",
   "execution_count": 14,
   "metadata": {
    "colab": {},
    "colab_type": "code",
    "id": "1_DJnnR3xLjR"
   },
   "outputs": [
    {
     "data": {
      "text/plain": [
       "' Additiion approach for my refrence, you can ignore it, while evluation'"
      ]
     },
     "execution_count": 14,
     "metadata": {},
     "output_type": "execute_result"
    }
   ],
   "source": [
    "''' Additiion approach for my refrence, you can ignore it, while evluation'''\n",
    "\n",
    "# cleaned_vocab = fit(cleaned_strings_corpus)\n",
    "# cleaned_unique_words = sorted(list(cleaned_vocab.keys()))\n",
    "# cleaned_strings_corpus_matrix = transform(cleaned_strings_corpus, cleaned_vocab).toarray()\n",
    "\n",
    "# cleaned_strings_idf_vector = []\n",
    "# for ic, word in  enumerate(cleaned_unique_words):\n",
    "#     idf = 1+np.log((1+len(cleaned_strings_corpus_matrix))/(1+np.count_nonzero(cleaned_strings_corpus_matrix[:,ic])))\n",
    "#     cleaned_strings_idf_vector.append(idf)\n",
    "\n",
    "# cleaned_strings_idf_vector = np.array(cleaned_strings_idf_vector)\n",
    "# priority_indexs = np.array(cleaned_strings_idf_vector).argsort()[-50:][::-1].tolist()\n",
    "# # print(priority_indexs)\n",
    "# cleaned_fifty_unique_words = [cleaned_unique_words[i] for i in priority_indexs]\n",
    "# print(cleaned_fifty_unique_words)\n",
    "# print(\"\\n\")\n",
    "# tmp = {}\n",
    "# for indx, item in enumerate(cleaned_fifty_unique_words):\n",
    "#     tmp[item]= indx\n",
    "\n",
    "# # print(tmp)\n",
    "# cleaned_corpus_matrix    = transform(cleaned_strings_corpus, tmp).toarray()\n",
    "# cleaned_tfidf_vector     = cal_tfidf(cleaned_corpus_matrix ,cleaned_fifty_unique_words)\n",
    "# cleaned_tfidf_normalized = normalize(np.array(cleaned_tfidf_vector), norm='l2', copy=False)\n",
    "# print(cleaned_tfidf_normalized.shape)\n",
    "\n",
    "    \n",
    "\n",
    "# cleaned_strings_corpus_matrix = transform(cleaned_strings_corpus, vocab).toarray()\n",
    "# print(cleaned_strings_corpus_matrix)\n",
    "\n",
    "\n",
    "# tfidf_vector     = cal_tfidf(corpus_matrix)\n",
    "# tfidf_normalized = normalize(np.array(tfidf_vector), norm='l2', copy=False)\n",
    "# print(tfidf_normalized[0])\n",
    "\n"
   ]
  }
 ],
 "metadata": {
  "colab": {
   "collapsed_sections": [],
   "name": "Assignment_3_Instructions.ipynb",
   "provenance": [],
   "version": "0.3.2"
  },
  "kernelspec": {
   "display_name": "Python 3",
   "language": "python",
   "name": "python3"
  },
  "language_info": {
   "codemirror_mode": {
    "name": "ipython",
    "version": 3
   },
   "file_extension": ".py",
   "mimetype": "text/x-python",
   "name": "python",
   "nbconvert_exporter": "python",
   "pygments_lexer": "ipython3",
   "version": "3.6.8"
  }
 },
 "nbformat": 4,
 "nbformat_minor": 1
}
