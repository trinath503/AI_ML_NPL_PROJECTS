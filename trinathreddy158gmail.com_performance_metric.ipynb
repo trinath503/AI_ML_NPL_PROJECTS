{
 "cells": [
  {
   "cell_type": "markdown",
   "metadata": {
    "colab_type": "text",
    "id": "s0Ej_bXyQvnV"
   },
   "source": [
    "# Compute performance metrics for the given Y and Y_score without sklearn"
   ]
  },
  {
   "cell_type": "code",
   "execution_count": 1,
   "metadata": {
    "colab": {},
    "colab_type": "code",
    "id": "4CHb6NE7Qvnc"
   },
   "outputs": [],
   "source": [
    "''' Importing the required packges'''\n",
    "import numpy as np\n",
    "import pandas as pd\n",
    "''' Additional packages for good plottings '''\n",
    "import seaborn as sns\n",
    "import pandas as pd\n",
    "import matplotlib.pyplot as plt"
   ]
  },
  {
   "cell_type": "markdown",
   "metadata": {
    "colab_type": "text",
    "id": "KbsWXuDaQvnq"
   },
   "source": [
    "<pre>\n",
    "<font color='red'><b>A.</b></font> Compute performance metrics for the given data <strong>5_a.csv</strong>\n",
    "   <b>Note 1:</b> in this data you can see number of positive points >> number of negatives points\n",
    "   <b>Note 2:</b> use pandas or numpy to read the data from <b>5_a.csv</b>\n",
    "   <b>Note 3:</b> you need to derive the class labels from given score</pre> $y^{pred}= \\text{[0 if y_score < 0.5 else 1]}$\n",
    "\n",
    "<pre>\n",
    "<ol>\n",
    "<li> Compute Confusion Matrix </li>\n",
    "<li> Compute F1 Score </li>\n",
    "<li> Compute AUC Score, you need to compute different thresholds and for each threshold compute tpr,fpr and then use               numpy.trapz(tpr_array, fpr_array) <a href='https://stackoverflow.com/q/53603376/4084039'>https://stackoverflow.com/q/53603376/4084039</a>, <a href='https://stackoverflow.com/a/39678975/4084039'>https://stackoverflow.com/a/39678975/4084039</a> Note: it should be numpy.trapz(tpr_array, fpr_array) not numpy.trapz(fpr_array, tpr_array)</li>\n",
    "<li> Compute Accuracy Score </li>\n",
    "</ol>\n",
    "</pre>"
   ]
  },
  {
   "cell_type": "code",
   "execution_count": 2,
   "metadata": {},
   "outputs": [],
   "source": [
    "def cal_confusion_matrix(dataset):\n",
    "    true_poitive, false_positive, false_negative, true_negative = 0,0,0,0\n",
    "    for item in dataset:\n",
    "        ground_pred = int(item[0])\n",
    "        model_pred  = int(item[1])\n",
    "        '''  calculate true postive '''\n",
    "        if (ground_pred==1) and  (model_pred==1):\n",
    "            true_poitive +=1\n",
    "        elif (ground_pred==0) and  (model_pred==1):\n",
    "            false_positive +=1\n",
    "        elif (ground_pred==1) and  (model_pred==0):\n",
    "            false_negative +=1\n",
    "        elif (ground_pred==0) and  (model_pred==0):\n",
    "            true_negative +=1\n",
    "        ''' Return all the values '''\n",
    "    return true_poitive, false_positive, false_negative, true_negative\n",
    "\n",
    "\n",
    "def get_custuom_scores(tp, fp, fn, tn):\n",
    "    precision          = tp/(tp+fp)\n",
    "    recall             = tp/(tp+fn)\n",
    "    accuracy           = (tp+tn)/(tp+fp+fn+tn)\n",
    "    f1_score           = (2*precision*recall)/(precision+recall)\n",
    "    true_postive_rate  = tp/(tp+fn)\n",
    "    false_negative_rate= fp/(tn+fp)\n",
    "#     print(precision, recall, accuracy, f1_score, true_postive_rate, false_negative_rate)\n",
    "    return precision, recall, accuracy, f1_score, true_postive_rate, false_negative_rate\n",
    "\n",
    "''' F'''\n",
    "def return_tpr_fpr(dataset_details,source_col='y',prop_col='proba',target_col='custum_threshold'):\n",
    "    all_sorted_thresholds = sorted(dataset_details['proba'].unique())\n",
    "    ''' Finding the tpr and fpr values'''\n",
    "    all_tpr_fpr= []\n",
    "    for each_threshold in all_sorted_thresholds:\n",
    "        dataset_details[target_col] = dataset_details[prop_col].apply(lambda x: 0 if x <each_threshold else 1)\n",
    "        each_true_poitive, each_false_positive, each_false_negative, each_true_negative = cal_confusion_matrix(zip(dataset_details[source_col],dataset_details[target_col]))\n",
    "#         print(each_true_poitive, each_false_positive, each_false_negative, each_true_negative)\n",
    "        _,_,_,_,each_true_pos, each_false_pos = get_custuom_scores(each_true_poitive, each_false_positive, each_false_negative, each_true_negative)\n",
    "        all_tpr_fpr.append([each_true_pos, each_false_pos])\n",
    "    ''' Again sorting them '''\n",
    "    all_tpr_fpr = sorted(all_tpr_fpr)\n",
    "    all_threshold_tpr ,all_threshold_fpr = [], []\n",
    "    for each_tpr_fpr in all_tpr_fpr:\n",
    "        all_threshold_tpr.append(each_tpr_fpr[0])\n",
    "        all_threshold_fpr.append(each_tpr_fpr[1])\n",
    "    return all_threshold_tpr ,all_threshold_fpr"
   ]
  },
  {
   "cell_type": "code",
   "execution_count": 3,
   "metadata": {
    "colab": {},
    "colab_type": "code",
    "id": "WaFLW7oBQvnt"
   },
   "outputs": [
    {
     "name": "stdout",
     "output_type": "stream",
     "text": [
      "<class 'pandas.core.frame.DataFrame'>\n",
      "RangeIndex: 10100 entries, 0 to 10099\n",
      "Data columns (total 3 columns):\n",
      "y         10100 non-null float64\n",
      "proba     10100 non-null float64\n",
      "y_pred    10100 non-null int64\n",
      "dtypes: float64(2), int64(1)\n",
      "memory usage: 236.8 KB\n"
     ]
    }
   ],
   "source": [
    "''' Doing first task, by loading the 5_a.csv file'''\n",
    "first_file_performance = pd.read_csv('5_a.csv')\n",
    "first_file_performance['y_pred'] = first_file_performance['proba'].apply(lambda x: 0 if x <0.5 else 1)\n",
    "first_file_performance.info()"
   ]
  },
  {
   "cell_type": "code",
   "execution_count": 4,
   "metadata": {},
   "outputs": [],
   "source": [
    "''' Getting the required details'''\n",
    "get_true_poitive, get_false_positive, get_false_negative, get_true_negative = cal_confusion_matrix(zip(first_file_performance['y'],first_file_performance['y_pred']))\n",
    "_, _, first_accuracy, first_f1_score, first_true_postive_rate, first_false_negative_rate = get_custuom_scores(get_true_poitive, get_false_positive, get_false_negative, get_true_negative)\n",
    "first_consution_matrix = [[get_true_poitive, get_false_positive],[get_false_negative, get_true_negative]]"
   ]
  },
  {
   "cell_type": "code",
   "execution_count": 5,
   "metadata": {},
   "outputs": [
    {
     "name": "stdout",
     "output_type": "stream",
     "text": [
      "[[10000, 100], [0, 0]]\n"
     ]
    }
   ],
   "source": [
    "''' printing the first_consution_matrix'''\n",
    "print(first_consution_matrix)"
   ]
  },
  {
   "cell_type": "code",
   "execution_count": 6,
   "metadata": {},
   "outputs": [
    {
     "name": "stdout",
     "output_type": "stream",
     "text": [
      "[[10000, 100], [0, 0]]\n"
     ]
    },
    {
     "data": {
      "image/png": "[encoded data removed]",
      "text/plain": [
       "<Figure size 432x288 with 2 Axes>"
      ]
     },
     "metadata": {
      "needs_background": "light"
     },
     "output_type": "display_data"
    }
   ],
   "source": [
    "#code referenced from google search results\n",
    "''' setting the plot'''\n",
    "custom_plot= plt.subplot()\n",
    "#annot=True to annotate cells\n",
    "sns.heatmap(first_consution_matrix, annot=True, ax = custom_plot);\n",
    "print(first_consution_matrix)\n",
    "# labels, title and ticks\n",
    "custom_plot.set_xlabel('Actual Values');\n",
    "custom_plot.set_ylabel('Predicte Values'); \n",
    "custom_plot.set_title('Confusion Matrix'); \n",
    "custom_plot.xaxis.set_ticklabels(['Postive', 'Negative']); \n",
    "custom_plot.yaxis.set_ticklabels(['Postive', 'Negative']);"
   ]
  },
  {
   "cell_type": "code",
   "execution_count": 7,
   "metadata": {},
   "outputs": [
    {
     "name": "stdout",
     "output_type": "stream",
     "text": [
      "0.9950248756218906\n"
     ]
    }
   ],
   "source": [
    "''' printing the first_f1_score'''\n",
    "print(first_f1_score)"
   ]
  },
  {
   "cell_type": "code",
   "execution_count": 8,
   "metadata": {},
   "outputs": [
    {
     "data": {
      "image/png": "[encoded data removed]",
      "text/plain": [
       "<Figure size 432x288 with 1 Axes>"
      ]
     },
     "metadata": {
      "needs_background": "light"
     },
     "output_type": "display_data"
    },
    {
     "name": "stdout",
     "output_type": "stream",
     "text": [
      "0.48829900000000004\n"
     ]
    }
   ],
   "source": [
    "''' - Displaying the plot by showing the tradeoff between trp vs fpr\n",
    "    - printing the auc score\n",
    "'''\n",
    "get_first_trp,get_first_fpr = return_tpr_fpr(first_file_performance)\n",
    "import matplotlib.pyplot as plt\n",
    "plt.plot(get_first_fpr,get_first_trp, 'ro')\n",
    "plt.xlabel('all_threshold_fpr')\n",
    "plt.ylabel('all_threshold_tpr')\n",
    "plt.show()\n",
    "AUC = np.trapz(get_first_trp,get_first_fpr)\n",
    "print(AUC)"
   ]
  },
  {
   "cell_type": "code",
   "execution_count": 9,
   "metadata": {},
   "outputs": [
    {
     "name": "stdout",
     "output_type": "stream",
     "text": [
      "0.9900990099009901\n"
     ]
    }
   ],
   "source": [
    "''' printing the first_accuracy'''\n",
    "print(first_accuracy)"
   ]
  },
  {
   "cell_type": "markdown",
   "metadata": {
    "colab_type": "text",
    "id": "V5KZem1BQvn2"
   },
   "source": [
    "<pre>\n",
    "<font color='red'><b>B.</b></font> Compute performance metrics for the given data <strong>5_b.csv</strong>\n",
    "   <b>Note 1:</b> in this data you can see number of positive points << number of negatives points\n",
    "   <b>Note 2:</b> use pandas or numpy to read the data from <b>5_b.csv</b>\n",
    "   <b>Note 3:</b> you need to derive the class labels from given score</pre> $y^{pred}= \\text{[0 if y_score < 0.5 else 1]}$\n",
    "\n",
    "<pre>\n",
    "<ol>\n",
    "<li> Compute Confusion Matrix </li>\n",
    "<li> Compute F1 Score </li>\n",
    "<li> Compute AUC Score, you need to compute different thresholds and for each threshold compute tpr,fpr and then use               numpy.trapz(tpr_array, fpr_array) <a href='https://stackoverflow.com/q/53603376/4084039'>https://stackoverflow.com/q/53603376/4084039</a>, <a href='https://stackoverflow.com/a/39678975/4084039'>https://stackoverflow.com/a/39678975/4084039</a></li>\n",
    "<li> Compute Accuracy Score </li>\n",
    "</ol>\n",
    "</pre>"
   ]
  },
  {
   "cell_type": "code",
   "execution_count": 10,
   "metadata": {},
   "outputs": [
    {
     "name": "stdout",
     "output_type": "stream",
     "text": [
      "<class 'pandas.core.frame.DataFrame'>\n",
      "RangeIndex: 10100 entries, 0 to 10099\n",
      "Data columns (total 3 columns):\n",
      "y         10100 non-null float64\n",
      "proba     10100 non-null float64\n",
      "y_pred    10100 non-null int64\n",
      "dtypes: float64(2), int64(1)\n",
      "memory usage: 236.8 KB\n"
     ]
    }
   ],
   "source": [
    "'''Doing second task, by loading the 5_b.csv file '''\n",
    "second_file_performance = pd.read_csv('5_b.csv')\n",
    "second_file_performance['y_pred'] = second_file_performance['proba'].apply(lambda x: 0 if x <0.5 else 1)\n",
    "second_file_performance.info()"
   ]
  },
  {
   "cell_type": "code",
   "execution_count": 11,
   "metadata": {},
   "outputs": [],
   "source": [
    "''' Getting the required details'''\n",
    "get_true_poitive, get_false_positive, get_false_negative, get_true_negative = cal_confusion_matrix(zip(second_file_performance['y'],second_file_performance['y_pred']))\n",
    "_, _, second_accuracy, second_f1_score, second_true_postive_rate, second_false_negative_rate = get_custuom_scores(get_true_poitive, get_false_positive, get_false_negative, get_true_negative)\n",
    "second_consution_matrix = [[get_true_poitive, get_false_positive],[get_false_negative, get_true_negative]]"
   ]
  },
  {
   "cell_type": "code",
   "execution_count": 12,
   "metadata": {},
   "outputs": [
    {
     "name": "stdout",
     "output_type": "stream",
     "text": [
      "[[55, 239], [45, 9761]]\n"
     ]
    }
   ],
   "source": [
    "''' printing the second_consution_matrix'''\n",
    "print(second_consution_matrix)\n"
   ]
  },
  {
   "cell_type": "code",
   "execution_count": 13,
   "metadata": {},
   "outputs": [
    {
     "name": "stdout",
     "output_type": "stream",
     "text": [
      "[[55, 239], [45, 9761]]\n"
     ]
    },
    {
     "data": {
      "image/png": "[encoded data removed]",
      "text/plain": [
       "<Figure size 432x288 with 2 Axes>"
      ]
     },
     "metadata": {
      "needs_background": "light"
     },
     "output_type": "display_data"
    }
   ],
   "source": [
    "#code referenced from google search results\n",
    "''' setting the plot'''\n",
    "custom_plot= plt.subplot()\n",
    "#annot=True to annotate cells\n",
    "sns.heatmap(second_consution_matrix, annot=True, ax = custom_plot);\n",
    "print(second_consution_matrix)\n",
    "# labels, title and ticks\n",
    "custom_plot.set_xlabel('Actual Values');\n",
    "custom_plot.set_ylabel('Predicte Values'); \n",
    "custom_plot.set_title('Confusion Matrix'); \n",
    "custom_plot.xaxis.set_ticklabels(['Postive', 'Negative']); \n",
    "custom_plot.yaxis.set_ticklabels(['Postive', 'Negative']);"
   ]
  },
  {
   "cell_type": "code",
   "execution_count": 14,
   "metadata": {},
   "outputs": [
    {
     "name": "stdout",
     "output_type": "stream",
     "text": [
      "0.2791878172588833\n"
     ]
    }
   ],
   "source": [
    "''' printing the second_f1_score'''\n",
    "print(second_f1_score)"
   ]
  },
  {
   "cell_type": "code",
   "execution_count": 15,
   "metadata": {},
   "outputs": [
    {
     "data": {
      "image/png": "[encoded data removed]",
      "text/plain": [
       "<Figure size 432x288 with 1 Axes>"
      ]
     },
     "metadata": {
      "needs_background": "light"
     },
     "output_type": "display_data"
    },
    {
     "name": "stdout",
     "output_type": "stream",
     "text": [
      "0.5\n"
     ]
    }
   ],
   "source": [
    "''' - Displaying the plot by showing the trade-off between trp vs fpr\n",
    "    - printing the auc score\n",
    "'''\n",
    "get_second_trp,get_second_fpr = return_tpr_fpr(second_file_performance)\n",
    "import matplotlib.pyplot as plt\n",
    "plt.plot(get_second_fpr,get_second_fpr, 'ro')\n",
    "plt.xlabel('all_threshold_fpr')\n",
    "plt.ylabel('all_threshold_tpr')\n",
    "plt.show()\n",
    "AUC = np.trapz(get_second_fpr,get_second_fpr)\n",
    "print(AUC)"
   ]
  },
  {
   "cell_type": "code",
   "execution_count": 16,
   "metadata": {},
   "outputs": [
    {
     "name": "stdout",
     "output_type": "stream",
     "text": [
      "0.9718811881188119\n"
     ]
    }
   ],
   "source": [
    "''' printing the second_accuracy'''\n",
    "print(second_accuracy)"
   ]
  },
  {
   "cell_type": "markdown",
   "metadata": {
    "colab_type": "text",
    "id": "GiPGonTzQvoB"
   },
   "source": [
    "<font color='red'><b>C.</b></font> Compute the best threshold (similarly to ROC curve computation) of probability which gives lowest values of metric <b>A</b> for the given data <strong>5_c.csv</strong>\n",
    "<br>\n",
    "\n",
    "you will be predicting label of a data points like this: $y^{pred}= \\text{[0 if y_score < threshold  else 1]}$\n",
    "\n",
    "$ A = 500 \\times \\text{number of false negative} + 100 \\times \\text{numebr of false positive}$\n",
    "\n",
    "<pre>\n",
    "   <b>Note 1:</b> in this data you can see number of negative points > number of positive points\n",
    "   <b>Note 2:</b> use pandas or numpy to read the data from <b>5_c.csv</b>\n",
    "</pre>"
   ]
  },
  {
   "cell_type": "code",
   "execution_count": 17,
   "metadata": {
    "colab": {},
    "colab_type": "code",
    "id": "x5HIJzq1QvoE"
   },
   "outputs": [
    {
     "data": {
      "text/html": [
       "<div>\n",
       "<style scoped>\n",
       "    .dataframe tbody tr th:only-of-type {\n",
       "        vertical-align: middle;\n",
       "    }\n",
       "\n",
       "    .dataframe tbody tr th {\n",
       "        vertical-align: top;\n",
       "    }\n",
       "\n",
       "    .dataframe thead th {\n",
       "        text-align: right;\n",
       "    }\n",
       "</style>\n",
       "<table border=\"1\" class=\"dataframe\">\n",
       "  <thead>\n",
       "    <tr style=\"text-align: right;\">\n",
       "      <th></th>\n",
       "      <th>y</th>\n",
       "      <th>prob</th>\n",
       "    </tr>\n",
       "  </thead>\n",
       "  <tbody>\n",
       "    <tr>\n",
       "      <th>0</th>\n",
       "      <td>0</td>\n",
       "      <td>0.458521</td>\n",
       "    </tr>\n",
       "    <tr>\n",
       "      <th>1</th>\n",
       "      <td>0</td>\n",
       "      <td>0.505037</td>\n",
       "    </tr>\n",
       "    <tr>\n",
       "      <th>2</th>\n",
       "      <td>0</td>\n",
       "      <td>0.418652</td>\n",
       "    </tr>\n",
       "    <tr>\n",
       "      <th>3</th>\n",
       "      <td>0</td>\n",
       "      <td>0.412057</td>\n",
       "    </tr>\n",
       "    <tr>\n",
       "      <th>4</th>\n",
       "      <td>0</td>\n",
       "      <td>0.375579</td>\n",
       "    </tr>\n",
       "  </tbody>\n",
       "</table>\n",
       "</div>"
      ],
      "text/plain": [
       "   y      prob\n",
       "0  0  0.458521\n",
       "1  0  0.505037\n",
       "2  0  0.418652\n",
       "3  0  0.412057\n",
       "4  0  0.375579"
      ]
     },
     "execution_count": 17,
     "metadata": {},
     "output_type": "execute_result"
    }
   ],
   "source": [
    "'''Doing third task, by loading the 5_c.csv file '''\n",
    "third_file_performance = pd.read_csv('5_c.csv')\n",
    "third_file_performance.head()"
   ]
  },
  {
   "cell_type": "code",
   "execution_count": 18,
   "metadata": {},
   "outputs": [],
   "source": [
    "''' For calculating all AUC according to the threshold '''\n",
    "all_third_thresholds = third_file_performance['prob']\n",
    "all_a_values = []\n",
    "for each_threshold in all_third_thresholds:\n",
    "    third_file_performance['custum_threshold'] = third_file_performance['prob'].apply(lambda x: 0 if x <each_threshold else 1)\n",
    "    each_true_poitive, each_false_positive, each_false_negative, each_true_negative = cal_confusion_matrix(zip(third_file_performance['y'],third_file_performance['custum_threshold']))\n",
    "    A_CURR = (100 * each_false_positive)+(500*each_false_negative)\n",
    "    all_a_values.append(A_CURR)"
   ]
  },
  {
   "cell_type": "code",
   "execution_count": 19,
   "metadata": {},
   "outputs": [
    {
     "name": "stdout",
     "output_type": "stream",
     "text": [
      "0.2300390278970873\n"
     ]
    }
   ],
   "source": [
    "''' Getting min threshold \n",
    "    - other approach is using lambda sorted as shown below \n",
    "    - sorted_thresholds_map = sorted(zip(all_third_thresholds,all_a_values),key = lambda arr:arr[1]) & get sorted_thresholds_map[0]\n",
    "'''\n",
    "get_best_threshold_details = all_third_thresholds[all_a_values.index(min(all_a_values))],min(all_a_values)\n",
    "print(get_best_threshold_details[0])"
   ]
  },
  {
   "cell_type": "markdown",
   "metadata": {
    "colab_type": "text",
    "id": "sD4CcgjXQvoL"
   },
   "source": [
    "<pre>\n",
    "<font color='red'><b>D.</b></font> Compute performance metrics(for regression) for the given data <strong>5_d.csv</strong>\n",
    "    <b>Note 2:</b> use pandas or numpy to read the data from <b>5_d.csv</b>\n",
    "    <b>Note 1:</b> <b>5_d.csv</b> will having two columns Y and predicted_Y both are real valued features\n",
    "<ol>\n",
    "<li> Compute Mean Square Error </li>\n",
    "<li> Compute MAPE: https://www.youtube.com/watch?v=ly6ztgIkUxk</li>\n",
    "<li> Compute R^2 error: https://en.wikipedia.org/wiki/Coefficient_of_determination#Definitions </li>\n",
    "</ol>\n",
    "</pre>"
   ]
  },
  {
   "cell_type": "code",
   "execution_count": 20,
   "metadata": {},
   "outputs": [
    {
     "data": {
      "text/html": [
       "<div>\n",
       "<style scoped>\n",
       "    .dataframe tbody tr th:only-of-type {\n",
       "        vertical-align: middle;\n",
       "    }\n",
       "\n",
       "    .dataframe tbody tr th {\n",
       "        vertical-align: top;\n",
       "    }\n",
       "\n",
       "    .dataframe thead th {\n",
       "        text-align: right;\n",
       "    }\n",
       "</style>\n",
       "<table border=\"1\" class=\"dataframe\">\n",
       "  <thead>\n",
       "    <tr style=\"text-align: right;\">\n",
       "      <th></th>\n",
       "      <th>y</th>\n",
       "      <th>pred</th>\n",
       "    </tr>\n",
       "  </thead>\n",
       "  <tbody>\n",
       "    <tr>\n",
       "      <th>0</th>\n",
       "      <td>101.0</td>\n",
       "      <td>100.0</td>\n",
       "    </tr>\n",
       "    <tr>\n",
       "      <th>1</th>\n",
       "      <td>120.0</td>\n",
       "      <td>100.0</td>\n",
       "    </tr>\n",
       "    <tr>\n",
       "      <th>2</th>\n",
       "      <td>131.0</td>\n",
       "      <td>113.0</td>\n",
       "    </tr>\n",
       "    <tr>\n",
       "      <th>3</th>\n",
       "      <td>164.0</td>\n",
       "      <td>125.0</td>\n",
       "    </tr>\n",
       "    <tr>\n",
       "      <th>4</th>\n",
       "      <td>154.0</td>\n",
       "      <td>152.0</td>\n",
       "    </tr>\n",
       "  </tbody>\n",
       "</table>\n",
       "</div>"
      ],
      "text/plain": [
       "       y   pred\n",
       "0  101.0  100.0\n",
       "1  120.0  100.0\n",
       "2  131.0  113.0\n",
       "3  164.0  125.0\n",
       "4  154.0  152.0"
      ]
     },
     "execution_count": 20,
     "metadata": {},
     "output_type": "execute_result"
    }
   ],
   "source": [
    "'''Doing forth task, by loading the 5_d.csv file '''\n",
    "fourth_file_performance = pd.read_csv('5_d.csv')\n",
    "fourth_file_performance.head()"
   ]
  },
  {
   "cell_type": "code",
   "execution_count": 21,
   "metadata": {},
   "outputs": [
    {
     "name": "stdout",
     "output_type": "stream",
     "text": [
      "177.16569974554707\n"
     ]
    }
   ],
   "source": [
    "'''Prining MSR '''\n",
    "fourth_file_performance['custum_error'] = fourth_file_performance['y']-fourth_file_performance['pred']\n",
    "square_errors = fourth_file_performance['custum_error']**2\n",
    "mean_square_error = square_errors.sum()/len(fourth_file_performance)\n",
    "print(mean_square_error)"
   ]
  },
  {
   "cell_type": "code",
   "execution_count": 22,
   "metadata": {},
   "outputs": [
    {
     "name": "stdout",
     "output_type": "stream",
     "text": [
      "0.1291202994009687\n"
     ]
    }
   ],
   "source": [
    "'''Prining MAPE '''\n",
    "absolute_errors = np.absolute(fourth_file_performance['custum_error'])\n",
    "MAPE = absolute_errors.sum()/(fourth_file_performance['y'].sum())\n",
    "print(MAPE)"
   ]
  },
  {
   "cell_type": "code",
   "execution_count": 23,
   "metadata": {},
   "outputs": [
    {
     "name": "stdout",
     "output_type": "stream",
     "text": [
      "0.9563582786990937\n"
     ]
    }
   ],
   "source": [
    "'''Prining R2 Error '''\n",
    "Y_BAR    = fourth_file_performance['y'].sum()/len(fourth_file_performance['y'])\n",
    "ss_total = ((fourth_file_performance['y']-Y_BAR)**2).sum()\n",
    "ss_res   = square_errors.sum()\n",
    "R2_ERROR = 1-(ss_res/ss_total)\n",
    "print(R2_ERROR)"
   ]
  }
 ],
 "metadata": {
  "colab": {
   "collapsed_sections": [],
   "name": "5_Performance_metrics_Instructions.ipynb",
   "provenance": [],
   "version": "0.3.2"
  },
  "kernelspec": {
   "display_name": "Python 3",
   "language": "python",
   "name": "python3"
  },
  "language_info": {
   "codemirror_mode": {
    "name": "ipython",
    "version": 3
   },
   "file_extension": ".py",
   "mimetype": "text/x-python",
   "name": "python",
   "nbconvert_exporter": "python",
   "pygments_lexer": "ipython3",
   "version": "3.6.8"
  }
 },
 "nbformat": 4,
 "nbformat_minor": 1
}
